{
 "cells": [
  {
   "cell_type": "code",
   "execution_count": 8,
   "metadata": {},
   "outputs": [],
   "source": [
    "import pandas as pd\n",
    "import matplotlib.pyplot as plt"
   ]
  },
  {
   "cell_type": "code",
   "execution_count": 7,
   "metadata": {},
   "outputs": [
    {
     "data": {
      "text/html": [
       "<div>\n",
       "<style scoped>\n",
       "    .dataframe tbody tr th:only-of-type {\n",
       "        vertical-align: middle;\n",
       "    }\n",
       "\n",
       "    .dataframe tbody tr th {\n",
       "        vertical-align: top;\n",
       "    }\n",
       "\n",
       "    .dataframe thead th {\n",
       "        text-align: right;\n",
       "    }\n",
       "</style>\n",
       "<table border=\"1\" class=\"dataframe\">\n",
       "  <thead>\n",
       "    <tr style=\"text-align: right;\">\n",
       "      <th></th>\n",
       "      <th>Date</th>\n",
       "      <th>mentioned</th>\n",
       "      <th>text</th>\n",
       "      <th>mentioned_count</th>\n",
       "      <th>upvote_ratio</th>\n",
       "      <th>score</th>\n",
       "      <th>gilded</th>\n",
       "      <th>total_awards_received</th>\n",
       "      <th>num_comments</th>\n",
       "      <th>target</th>\n",
       "      <th>neg</th>\n",
       "      <th>neu</th>\n",
       "      <th>pos</th>\n",
       "    </tr>\n",
       "  </thead>\n",
       "  <tbody>\n",
       "    <tr>\n",
       "      <th>0</th>\n",
       "      <td>2021-01-04</td>\n",
       "      <td>AAPL</td>\n",
       "      <td>weekend iv report ticker low iv cheap premium ...</td>\n",
       "      <td>18</td>\n",
       "      <td>0.771111</td>\n",
       "      <td>163.500000</td>\n",
       "      <td>0.333333</td>\n",
       "      <td>4.166667</td>\n",
       "      <td>79.277778</td>\n",
       "      <td>-0.030782</td>\n",
       "      <td>0.063</td>\n",
       "      <td>0.764</td>\n",
       "      <td>0.172</td>\n",
       "    </tr>\n",
       "    <tr>\n",
       "      <th>1</th>\n",
       "      <td>2021-01-04</td>\n",
       "      <td>AMC</td>\n",
       "      <td>crazy buy amc right thinking going long amc lo...</td>\n",
       "      <td>1</td>\n",
       "      <td>0.440000</td>\n",
       "      <td>0.000000</td>\n",
       "      <td>0.000000</td>\n",
       "      <td>0.000000</td>\n",
       "      <td>18.000000</td>\n",
       "      <td>-0.086364</td>\n",
       "      <td>0.054</td>\n",
       "      <td>0.787</td>\n",
       "      <td>0.159</td>\n",
       "    </tr>\n",
       "    <tr>\n",
       "      <th>2</th>\n",
       "      <td>2021-01-04</td>\n",
       "      <td>BA</td>\n",
       "      <td>weekend iv report ticker low iv cheap premium ...</td>\n",
       "      <td>7</td>\n",
       "      <td>0.765714</td>\n",
       "      <td>97.428571</td>\n",
       "      <td>0.000000</td>\n",
       "      <td>0.428571</td>\n",
       "      <td>37.142857</td>\n",
       "      <td>-0.034667</td>\n",
       "      <td>0.079</td>\n",
       "      <td>0.749</td>\n",
       "      <td>0.173</td>\n",
       "    </tr>\n",
       "    <tr>\n",
       "      <th>3</th>\n",
       "      <td>2021-01-04</td>\n",
       "      <td>BABA</td>\n",
       "      <td>weekend iv report ticker low iv cheap premium ...</td>\n",
       "      <td>9</td>\n",
       "      <td>0.737778</td>\n",
       "      <td>58.111111</td>\n",
       "      <td>0.000000</td>\n",
       "      <td>0.222222</td>\n",
       "      <td>31.777778</td>\n",
       "      <td>0.005960</td>\n",
       "      <td>0.049</td>\n",
       "      <td>0.801</td>\n",
       "      <td>0.150</td>\n",
       "    </tr>\n",
       "    <tr>\n",
       "      <th>4</th>\n",
       "      <td>2021-01-04</td>\n",
       "      <td>BB</td>\n",
       "      <td>guess company due diligence without revealing ...</td>\n",
       "      <td>1</td>\n",
       "      <td>0.960000</td>\n",
       "      <td>417.000000</td>\n",
       "      <td>1.000000</td>\n",
       "      <td>2.000000</td>\n",
       "      <td>51.000000</td>\n",
       "      <td>-0.017910</td>\n",
       "      <td>0.067</td>\n",
       "      <td>0.841</td>\n",
       "      <td>0.092</td>\n",
       "    </tr>\n",
       "  </tbody>\n",
       "</table>\n",
       "</div>"
      ],
      "text/plain": [
       "        Date mentioned                                               text  \\\n",
       "0 2021-01-04      AAPL  weekend iv report ticker low iv cheap premium ...   \n",
       "1 2021-01-04       AMC  crazy buy amc right thinking going long amc lo...   \n",
       "2 2021-01-04        BA  weekend iv report ticker low iv cheap premium ...   \n",
       "3 2021-01-04      BABA  weekend iv report ticker low iv cheap premium ...   \n",
       "4 2021-01-04        BB  guess company due diligence without revealing ...   \n",
       "\n",
       "   mentioned_count  upvote_ratio       score    gilded  total_awards_received  \\\n",
       "0               18      0.771111  163.500000  0.333333               4.166667   \n",
       "1                1      0.440000    0.000000  0.000000               0.000000   \n",
       "2                7      0.765714   97.428571  0.000000               0.428571   \n",
       "3                9      0.737778   58.111111  0.000000               0.222222   \n",
       "4                1      0.960000  417.000000  1.000000               2.000000   \n",
       "\n",
       "   num_comments    target    neg    neu    pos  \n",
       "0     79.277778 -0.030782  0.063  0.764  0.172  \n",
       "1     18.000000 -0.086364  0.054  0.787  0.159  \n",
       "2     37.142857 -0.034667  0.079  0.749  0.173  \n",
       "3     31.777778  0.005960  0.049  0.801  0.150  \n",
       "4     51.000000 -0.017910  0.067  0.841  0.092  "
      ]
     },
     "execution_count": 7,
     "metadata": {},
     "output_type": "execute_result"
    }
   ],
   "source": [
    "df = pd.read_pickle('sent_df')\n",
    "nice = pd.read_csv('nice_combined_data.csv')\n",
    "df['target'] = nice['target']\n",
    "df.head()"
   ]
  },
  {
   "cell_type": "code",
   "execution_count": 13,
   "metadata": {},
   "outputs": [
    {
     "data": {
      "image/png": "[encoded data removed]",
      "text/plain": [
       "<Figure size 720x504 with 1 Axes>"
      ]
     },
     "metadata": {
      "needs_background": "light"
     },
     "output_type": "display_data"
    }
   ],
   "source": [
    "f = plt.figure()\n",
    "f.set_figwidth(10)\n",
    "f.set_figheight(7)\n",
    "plt.scatter(df['neg'], df['target'], label='neg')\n",
    "plt.scatter(df['neu'], df['target'], label='neu')\n",
    "plt.scatter(df['pos'], df['target'], label='pos')\n",
    "plt.legend()\n",
    "plt.show()"
   ]
  },
  {
   "cell_type": "code",
   "execution_count": 23,
   "metadata": {},
   "outputs": [],
   "source": [
    "from sklearn import preprocessing\n",
    "from sklearn.model_selection import train_test_split\n",
    "from sklearn.metrics import mean_absolute_error\n",
    "\n",
    "\n",
    "\n",
    "def prep_data(X, y):\n",
    "    X_train, X_test, y_train, y_test = train_test_split(X, y, shuffle=True, train_size=.9)\n",
    "    normalizer = preprocessing.Normalizer()\n",
    "    norm_train_X = normalizer.fit_transform(X_train)\n",
    "    norm_test_X = normalizer.fit_transform(X_test)\n",
    "    return norm_train_X, norm_test_X, y_train, y_test"
   ]
  },
  {
   "cell_type": "code",
   "execution_count": 51,
   "metadata": {},
   "outputs": [],
   "source": [
    "X = df[['mentioned_count','upvote_ratio','score','gilded','total_awards_received','num_comments', 'neg','neu','pos']].to_numpy()\n",
    "y = df['target'].to_numpy()\n",
    "\n",
    "X_train, X_test, y_train, y_test = prep_data(X, y)"
   ]
  },
  {
   "cell_type": "code",
   "execution_count": 32,
   "metadata": {},
   "outputs": [
    {
     "name": "stdout",
     "output_type": "stream",
     "text": [
      "LINREG: 0.014890072967814699\n"
     ]
    }
   ],
   "source": [
    "from sklearn.linear_model import LinearRegression\n",
    "\n",
    "mod = LinearRegression().fit(X_train, y_train)\n",
    "pred = mod.predict(X_test)\n",
    "acc = mean_absolute_error(pred, y_test)\n",
    "print(f'LINREG: {acc}')"
   ]
  },
  {
   "cell_type": "code",
   "execution_count": 33,
   "metadata": {},
   "outputs": [
    {
     "name": "stdout",
     "output_type": "stream",
     "text": [
      "Lasso: 0.014856851378511922\n"
     ]
    }
   ],
   "source": [
    "from sklearn.linear_model import Lasso\n",
    "\n",
    "\n",
    "mod = Lasso().fit(X_train, y_train)\n",
    "pred = mod.predict(X_test)\n",
    "acc = mean_absolute_error(pred, y_test)\n",
    "print(f'Lasso: {acc}')"
   ]
  },
  {
   "cell_type": "code",
   "execution_count": 34,
   "metadata": {},
   "outputs": [
    {
     "name": "stdout",
     "output_type": "stream",
     "text": [
      "Ridge: 0.014887560971510729\n"
     ]
    }
   ],
   "source": [
    "from sklearn.linear_model import Ridge\n",
    "\n",
    "\n",
    "mod = Ridge().fit(X_train, y_train)\n",
    "pred = mod.predict(X_test)\n",
    "acc = mean_absolute_error(pred, y_test)\n",
    "print(f'Ridge: {acc}')"
   ]
  },
  {
   "cell_type": "code",
   "execution_count": 36,
   "metadata": {},
   "outputs": [
    {
     "name": "stdout",
     "output_type": "stream",
     "text": [
      "Net: 0.014856851378511922\n"
     ]
    }
   ],
   "source": [
    "from sklearn.linear_model import ElasticNet\n",
    "\n",
    "\n",
    "mod = ElasticNet().fit(X_train, y_train)\n",
    "pred = mod.predict(X_test)\n",
    "acc = mean_absolute_error(pred, y_test)\n",
    "print(f'Net: {acc}')"
   ]
  },
  {
   "cell_type": "code",
   "execution_count": 52,
   "metadata": {},
   "outputs": [
    {
     "data": {
      "image/png": "[encoded data removed]",
      "text/plain": [
       "<Figure size 720x504 with 1 Axes>"
      ]
     },
     "metadata": {
      "needs_background": "light"
     },
     "output_type": "display_data"
    }
   ],
   "source": [
    "mod = LinearRegression().fit(X_train, y_train)\n",
    "pred = mod.predict(X_test)\n",
    "\n",
    "f = plt.figure()\n",
    "f.set_figwidth(10)\n",
    "f.set_figheight(7)\n",
    "plt.scatter([i for i in range(y_test.shape[0])], y_test, label='test')\n",
    "plt.scatter([i for i in range(y_test.shape[0])], pred, label='linreg')\n",
    "plt.legend()\n",
    "plt.show()"
   ]
  },
  {
   "cell_type": "code",
   "execution_count": null,
   "metadata": {},
   "outputs": [],
   "source": []
  },
  {
   "cell_type": "code",
   "execution_count": 45,
   "metadata": {},
   "outputs": [],
   "source": [
    "from sklearn.feature_extraction.text import CountVectorizer\n",
    "from sklearn.decomposition import TruncatedSVD\n",
    "\n",
    "vectorizer = CountVectorizer()\n",
    "ret = vectorizer.fit_transform(df['text'])\n",
    "trunk = TruncatedSVD(n_components=10)\n",
    "reduc = trunk.fit_transform(ret)"
   ]
  },
  {
   "cell_type": "code",
   "execution_count": 53,
   "metadata": {},
   "outputs": [],
   "source": [
    "X_train, X_test, y_train, y_test = prep_data(reduc, y)"
   ]
  },
  {
   "cell_type": "code",
   "execution_count": 47,
   "metadata": {},
   "outputs": [
    {
     "name": "stdout",
     "output_type": "stream",
     "text": [
      "LINREG: 0.014727485197150128\n",
      "Lasso: 0.014534965835166188\n",
      "Ridge: 0.014720959337341884\n",
      "Elastic: 0.014534965835166188\n"
     ]
    }
   ],
   "source": [
    "mod = LinearRegression().fit(X_train, y_train)\n",
    "pred = mod.predict(X_test)\n",
    "acc = mean_absolute_error(pred, y_test)\n",
    "print(f'LINREG: {acc}')\n",
    "\n",
    "mod = Lasso().fit(X_train, y_train)\n",
    "pred = mod.predict(X_test)\n",
    "acc = mean_absolute_error(pred, y_test)\n",
    "print(f'Lasso: {acc}')\n",
    "\n",
    "mod = Ridge().fit(X_train, y_train)\n",
    "pred = mod.predict(X_test)\n",
    "acc = mean_absolute_error(pred, y_test)\n",
    "print(f'Ridge: {acc}')\n",
    "\n",
    "mod = ElasticNet().fit(X_train, y_train)\n",
    "pred = mod.predict(X_test)\n",
    "acc = mean_absolute_error(pred, y_test)\n",
    "print(f'Elastic: {acc}')\n"
   ]
  },
  {
   "cell_type": "code",
   "execution_count": 48,
   "metadata": {},
   "outputs": [],
   "source": [
    "X_train, X_test, y_train, y_test = prep_data(ret, y)"
   ]
  },
  {
   "cell_type": "code",
   "execution_count": 49,
   "metadata": {},
   "outputs": [
    {
     "name": "stdout",
     "output_type": "stream",
     "text": [
      "LINREG: 0.06944564609194841\n",
      "Lasso: 0.014960733755915568\n",
      "Ridge: 0.01593082503341983\n",
      "Elastic: 0.014960733755915568\n"
     ]
    }
   ],
   "source": [
    "mod = LinearRegression().fit(X_train, y_train)\n",
    "pred = mod.predict(X_test)\n",
    "acc = mean_absolute_error(pred, y_test)\n",
    "print(f'LINREG: {acc}')\n",
    "\n",
    "mod = Lasso().fit(X_train, y_train)\n",
    "pred = mod.predict(X_test)\n",
    "acc = mean_absolute_error(pred, y_test)\n",
    "print(f'Lasso: {acc}')\n",
    "\n",
    "mod = Ridge().fit(X_train, y_train)\n",
    "pred = mod.predict(X_test)\n",
    "acc = mean_absolute_error(pred, y_test)\n",
    "print(f'Ridge: {acc}')\n",
    "\n",
    "mod = ElasticNet().fit(X_train, y_train)\n",
    "pred = mod.predict(X_test)\n",
    "acc = mean_absolute_error(pred, y_test)\n",
    "print(f'Elastic: {acc}')"
   ]
  },
  {
   "cell_type": "code",
   "execution_count": 54,
   "metadata": {},
   "outputs": [
    {
     "data": {
      "image/png": "[encoded data removed]",
      "text/plain": [
       "<Figure size 720x504 with 1 Axes>"
      ]
     },
     "metadata": {
      "needs_background": "light"
     },
     "output_type": "display_data"
    }
   ],
   "source": [
    "mod = Lasso().fit(X_train, y_train)\n",
    "pred = mod.predict(X_test)\n",
    "\n",
    "f = plt.figure()\n",
    "f.set_figwidth(10)\n",
    "f.set_figheight(7)\n",
    "plt.scatter([i for i in range(y_test.shape[0])], y_test, label='test')\n",
    "plt.scatter([i for i in range(y_test.shape[0])], pred, label='lasso with reduc')\n",
    "plt.legend()\n",
    "plt.show()"
   ]
  },
  {
   "cell_type": "code",
   "execution_count": 55,
   "metadata": {},
   "outputs": [
    {
     "data": {
      "image/png": "[encoded data removed]",
      "text/plain": [
       "<Figure size 720x504 with 1 Axes>"
      ]
     },
     "metadata": {
      "needs_background": "light"
     },
     "output_type": "display_data"
    }
   ],
   "source": [
    "mod = Lasso().fit(X_train, y_train)\n",
    "pred = mod.predict(X_test)\n",
    "\n",
    "f = plt.figure()\n",
    "f.set_figwidth(10)\n",
    "f.set_figheight(7)\n",
    "plt.scatter([i for i in range(y_test.shape[0])], pred, label='lasso with reduc')\n",
    "plt.legend()\n",
    "plt.show()"
   ]
  },
  {
   "cell_type": "code",
   "execution_count": 59,
   "metadata": {},
   "outputs": [
    {
     "data": {
      "text/plain": [
       "-0.007038349719175548"
      ]
     },
     "execution_count": 59,
     "metadata": {},
     "output_type": "execute_result"
    }
   ],
   "source": [
    "# so out best model is just 0, nice\n",
    "pred.sum()"
   ]
  },
  {
   "cell_type": "code",
   "execution_count": null,
   "metadata": {},
   "outputs": [],
   "source": []
  },
  {
   "cell_type": "code",
   "execution_count": 61,
   "metadata": {},
   "outputs": [],
   "source": [
    "# nn time?"
   ]
  },
  {
   "cell_type": "code",
   "execution_count": 62,
   "metadata": {},
   "outputs": [],
   "source": [
    "from keras.layers import Dense, Dropout\n",
    "from keras import Sequential\n",
    "from keras.optimizers import Adam, SGD, RMSprop\n",
    "import keras"
   ]
  },
  {
   "cell_type": "code",
   "execution_count": 74,
   "metadata": {},
   "outputs": [
    {
     "name": "stdout",
     "output_type": "stream",
     "text": [
      "Epoch 1/100\n",
      "370/370 [==============================] - 2s 4ms/step - loss: 1.0682 - accuracy: 0.0061 - val_loss: 0.0186 - val_accuracy: 0.0000e+00 - lr: 0.0100\n",
      "Epoch 2/100\n",
      "370/370 [==============================] - 2s 4ms/step - loss: 0.0168 - accuracy: 0.0061 - val_loss: 0.0210 - val_accuracy: 0.0000e+00 - lr: 0.0100\n",
      "Epoch 3/100\n",
      "370/370 [==============================] - 2s 4ms/step - loss: 0.0237 - accuracy: 0.0059 - val_loss: 0.0174 - val_accuracy: 0.0000e+00 - lr: 0.0100\n",
      "Epoch 4/100\n",
      "370/370 [==============================] - 2s 5ms/step - loss: 0.0167 - accuracy: 0.0061 - val_loss: 0.0175 - val_accuracy: 0.0000e+00 - lr: 0.0100\n",
      "Epoch 5/100\n",
      "370/370 [==============================] - 2s 5ms/step - loss: 0.0169 - accuracy: 0.0061 - val_loss: 0.0204 - val_accuracy: 0.0000e+00 - lr: 0.0100\n",
      "Epoch 6/100\n",
      "370/370 [==============================] - 2s 5ms/step - loss: 0.0166 - accuracy: 0.0061 - val_loss: 0.0178 - val_accuracy: 0.0000e+00 - lr: 0.0100\n",
      "Epoch 7/100\n",
      "370/370 [==============================] - 2s 7ms/step - loss: 0.0168 - accuracy: 0.0061 - val_loss: 0.0175 - val_accuracy: 0.0000e+00 - lr: 0.0100\n",
      "Epoch 8/100\n",
      "370/370 [==============================] - 2s 5ms/step - loss: 0.0167 - accuracy: 0.0061 - val_loss: 0.0188 - val_accuracy: 0.0000e+00 - lr: 0.0100\n",
      "Epoch 9/100\n",
      "370/370 [==============================] - 2s 5ms/step - loss: 0.0157 - accuracy: 0.0061 - val_loss: 0.0175 - val_accuracy: 0.0000e+00 - lr: 1.0000e-03\n",
      "Epoch 10/100\n",
      "370/370 [==============================] - 2s 5ms/step - loss: 0.0157 - accuracy: 0.0061 - val_loss: 0.0175 - val_accuracy: 0.0000e+00 - lr: 1.0000e-03\n",
      "Epoch 11/100\n",
      "370/370 [==============================] - 2s 5ms/step - loss: 0.0157 - accuracy: 0.0061 - val_loss: 0.0173 - val_accuracy: 0.0000e+00 - lr: 1.0000e-03\n"
     ]
    }
   ],
   "source": [
    "X_train, X_test, y_train, y_test = prep_data(reduc, y)\n",
    "\n",
    "\n",
    "model = Sequential([\n",
    "    Dense(160, kernel_initializer='normal', activation='relu'),\n",
    "    Dropout(0.2),\n",
    "    Dense(480, kernel_initializer='normal', activation='relu'),\n",
    "    Dense(480, kernel_initializer='normal', activation='relu'),\n",
    "    Dense(480, kernel_initializer='normal', activation='relu'),\n",
    "    Dense(480, kernel_initializer='normal', activation='relu'),\n",
    "    Dropout(0.2),\n",
    "    Dense(256, kernel_initializer='normal', activation='relu'),\n",
    "    Dense(1, kernel_initializer='normal', activation='linear')\n",
    "])\n",
    "\n",
    "optimizer = RMSprop(learning_rate=0.01)\n",
    "model.compile(loss='mean_absolute_error', optimizer=optimizer, metrics=['accuracy'])\n",
    "\n",
    "call=[\n",
    "    keras.callbacks.EarlyStopping(monitor='accuracy',patience=10),\n",
    "    keras.callbacks.ModelCheckpoint(\n",
    "    filepath='pred_model.h5',\n",
    "    monitor='val_loss',\n",
    "    save_best_only=True),\n",
    "    keras.callbacks.ReduceLROnPlateau(monitor = \"val_loss\", factor = 0.1, patience = 5)\n",
    "   ]\n",
    "\n",
    "history = model.fit(X_train, y_train, validation_data = (X_test, y_test), batch_size=16,epochs=100, callbacks=call)"
   ]
  },
  {
   "cell_type": "code",
   "execution_count": 79,
   "metadata": {},
   "outputs": [
    {
     "name": "stdout",
     "output_type": "stream",
     "text": [
      "21/21 [==============================] - 0s 2ms/step\n"
     ]
    },
    {
     "data": {
      "image/png": "[encoded data removed]",
      "text/plain": [
       "<Figure size 720x504 with 1 Axes>"
      ]
     },
     "metadata": {
      "needs_background": "light"
     },
     "output_type": "display_data"
    }
   ],
   "source": [
    "pred = model.predict(X_test)\n",
    "\n",
    "f = plt.figure()\n",
    "f.set_figwidth(10)\n",
    "f.set_figheight(7)\n",
    "plt.scatter([i for i in range(y_test.shape[0])], y_test, label='test')\n",
    "plt.scatter([i for i in range(y_test.shape[0])], pred, label='NN with reduc')\n",
    "plt.legend()\n",
    "plt.show()"
   ]
  },
  {
   "cell_type": "code",
   "execution_count": 81,
   "metadata": {},
   "outputs": [
    {
     "data": {
      "image/png": "[encoded data removed]",
      "text/plain": [
       "<Figure size 720x504 with 1 Axes>"
      ]
     },
     "metadata": {
      "needs_background": "light"
     },
     "output_type": "display_data"
    }
   ],
   "source": [
    "f = plt.figure()\n",
    "f.set_figwidth(10)\n",
    "f.set_figheight(7)\n",
    "plt.scatter([i for i in range(y_test.shape[0])], pred, label='NN with reduc')\n",
    "plt.legend()\n",
    "plt.show()\n",
    "# dang..."
   ]
  },
  {
   "cell_type": "code",
   "execution_count": null,
   "metadata": {},
   "outputs": [],
   "source": []
  }
 ],
 "metadata": {
  "interpreter": {
   "hash": "7e1998ff7f8aa20ada591c520b972326324e5ea05489af9e422744c7c09f6dad"
  },
  "kernelspec": {
   "display_name": "Python 3.10.4 64-bit",
   "language": "python",
   "name": "python3"
  },
  "language_info": {
   "codemirror_mode": {
    "name": "ipython",
    "version": 3
   },
   "file_extension": ".py",
   "mimetype": "text/x-python",
   "name": "python",
   "nbconvert_exporter": "python",
   "pygments_lexer": "ipython3",
   "version": "3.10.4"
  },
  "orig_nbformat": 4
 },
 "nbformat": 4,
 "nbformat_minor": 2
}
