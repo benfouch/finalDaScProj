{
 "cells": [
  {
   "attachments": {},
   "cell_type": "markdown",
   "metadata": {},
   "source": [
    "# Cleaning\n",
    "\n",
    "\n",
    "\n",
    "<img src=\"https://media.tenor.com/oNn3Xf14XrkAAAAC/consuela-family-guy.gif\">"
   ]
  },
  {
   "attachments": {},
   "cell_type": "markdown",
   "metadata": {},
   "source": [
    "Columns are the same for each dataset.     \n",
    "So we can write one script to clean them all. (Test on one for loop on others)"
   ]
  },
  {
   "attachments": {},
   "cell_type": "markdown",
   "metadata": {},
   "source": [
    "### Imports and setup"
   ]
  },
  {
   "cell_type": "code",
   "execution_count": 16,
   "metadata": {},
   "outputs": [],
   "source": [
    "import pandas as pd\n",
    "import numpy as np \n",
    "import matplotlib.pyplot as plt\n",
    "import os\n",
    "import seaborn as sns\n",
    "import sys\n",
    "import demoji\n",
    "sys.path.append('../')\n",
    "\n",
    "\n",
    "\n",
    "pd.set_option('display.max_rows', 250)\n",
    "\n",
    "\n",
    "\n",
    "data_path = os.path.join('Data','forex','submissions_reddit.csv')\n"
   ]
  },
  {
   "cell_type": "code",
   "execution_count": 17,
   "metadata": {},
   "outputs": [],
   "source": [
    "df = pd.read_csv(data_path)"
   ]
  },
  {
   "attachments": {},
   "cell_type": "markdown",
   "metadata": {},
   "source": [
    "Columns:    \n",
    "id     \n",
    "author     \n",
    "created     \n",
    "retrieved    \n",
    "edited    \n",
    "pinned    \n",
    "archived    \n",
    "locked    \n",
    "removed    \n",
    "deleted    \n",
    "is_self    \n",
    "is_video    \n",
    "is_original_content    \n",
    "title    \n",
    "link_flair_text    \n",
    "upvote_ratio    \n",
    "score    \n",
    "gilded    \n",
    "total_awards_received    \n",
    "num_comments    \n",
    "num_crossposts    \n",
    "selftext    \n",
    "thumbnail    \n",
    "shortlink    "
   ]
  },
  {
   "attachments": {},
   "cell_type": "markdown",
   "metadata": {},
   "source": [
    "### Cleaning functions for Title\n",
    "\n",
    "\n",
    "Things that need to be cleaned from \"Title\":\n",
    "- New lines\n",
    "- Emojis (convert or remove?)\n",
    "- Spam messages (possibly only take posts that have a certain number of upvotes)\n",
    "- links (need to remove entire record if link is only thing)\n",
    "- videos (same as link)\n",
    "- A lot of records do not talk about a specific stock. (Remove them?)"
   ]
  },
  {
   "cell_type": "code",
   "execution_count": 18,
   "metadata": {},
   "outputs": [],
   "source": [
    "def remove_special_tokens(x):\n",
    "    pass\n",
    "\n",
    "def remove_videos(x):\n",
    "    pass\n",
    "\n",
    "def remove_irrelevant_posts(x):\n",
    "    pass\n",
    "\n",
    "def convert_emojis(x):\n",
    "    pass\n"
   ]
  },
  {
   "cell_type": "code",
   "execution_count": 20,
   "metadata": {},
   "outputs": [
    {
     "data": {
      "text/plain": [
       "'IMPORTANT NOTICE'"
      ]
     },
     "execution_count": 20,
     "metadata": {},
     "output_type": "execute_result"
    }
   ],
   "source": [
    "df['title'][694]"
   ]
  },
  {
   "attachments": {},
   "cell_type": "markdown",
   "metadata": {},
   "source": [
    "Columns that can be removed for sure:\n",
    "- id\n",
    "- shortlink  \n",
    "- thumbnail\n",
    "\n",
    "\n",
    "Columns that could maybe possibly be removed:\n",
    "- retrieved\n",
    "- edited \n",
    "- pinned  \n",
    "- archived  \n",
    "- locked  \n",
    "- removed (if removed is true should we discard the record?)\n",
    "- deleted (same as removed)\n",
    "- is_self   \n",
    "- is_video (use as flag to remove records?)\n",
    "- gilded   \n",
    "..."
   ]
  },
  {
   "cell_type": "code",
   "execution_count": null,
   "metadata": {},
   "outputs": [],
   "source": []
  }
 ],
 "metadata": {
  "kernelspec": {
   "display_name": "venv",
   "language": "python",
   "name": "python3"
  },
  "language_info": {
   "codemirror_mode": {
    "name": "ipython",
    "version": 3
   },
   "file_extension": ".py",
   "mimetype": "text/x-python",
   "name": "python",
   "nbconvert_exporter": "python",
   "pygments_lexer": "ipython3",
   "version": "3.10.7 (tags/v3.10.7:6cc6b13, Sep  5 2022, 14:08:36) [MSC v.1933 64 bit (AMD64)]"
  },
  "orig_nbformat": 4,
  "vscode": {
   "interpreter": {
    "hash": "7a267a99bbf72d1e7ab9dc70df7cf6b2ed807ed4003ebf11dfd7853a92fab2bb"
   }
  }
 },
 "nbformat": 4,
 "nbformat_minor": 2
}
