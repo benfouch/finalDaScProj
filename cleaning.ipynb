{
 "cells": [
  {
   "cell_type": "markdown",
   "metadata": {},
   "source": [
    "# Cleaning\n",
    "\n",
    "\n"
   ]
  },
  {
   "cell_type": "markdown",
   "metadata": {},
   "source": [
    "Columns are the same for each dataset.     \n",
    "So we can write one script to clean them all. (Test on one for loop on others)"
   ]
  },
  {
   "cell_type": "markdown",
   "metadata": {},
   "source": [
    "### Imports and setup"
   ]
  },
  {
   "cell_type": "code",
   "execution_count": null,
   "metadata": {},
   "outputs": [],
   "source": []
  },
  {
   "cell_type": "code",
   "execution_count": 226,
   "metadata": {},
   "outputs": [
    {
     "name": "stderr",
     "output_type": "stream",
     "text": [
      "[nltk_data] Downloading package stopwords to\n",
      "[nltk_data]     C:\\Users\\paganinik\\AppData\\Roaming\\nltk_data...\n",
      "[nltk_data]   Package stopwords is already up-to-date!\n"
     ]
    }
   ],
   "source": [
    "import pandas as pd\n",
    "import numpy as np \n",
    "import matplotlib.pyplot as plt\n",
    "import os\n",
    "import seaborn as sns\n",
    "import sys\n",
    "import demoji\n",
    "import nltk \n",
    "from nltk.tokenize import RegexpTokenizer\n",
    "from nltk.corpus import stopwords\n",
    "nltk.download('stopwords')\n",
    "\n",
    "\n",
    "sys.path.append('../')\n",
    "\n",
    "\n",
    "\n",
    "pd.set_option('display.max_rows', 250)\n",
    "pd.set_option('display.max_columns', 250)\n",
    "\n",
    "\n",
    "\n",
    "data_path = os.path.join('combined_files.csv')\n"
   ]
  },
  {
   "cell_type": "markdown",
   "metadata": {},
   "source": [
    "### Before data can be read in to dataframe, I think it is necessary to do some preprocessing to the csv file itself"
   ]
  },
  {
   "cell_type": "markdown",
   "metadata": {},
   "source": [
    "### Preprocessing has been done in clean.py\n"
   ]
  },
  {
   "cell_type": "markdown",
   "metadata": {},
   "source": [
    "## Still some more data cleaning needs to be done"
   ]
  },
  {
   "cell_type": "code",
   "execution_count": 227,
   "metadata": {},
   "outputs": [],
   "source": [
    "df = pd.read_csv(data_path)"
   ]
  },
  {
   "cell_type": "code",
   "execution_count": 228,
   "metadata": {},
   "outputs": [
    {
     "data": {
      "text/html": [
       "<div>\n",
       "<style scoped>\n",
       "    .dataframe tbody tr th:only-of-type {\n",
       "        vertical-align: middle;\n",
       "    }\n",
       "\n",
       "    .dataframe tbody tr th {\n",
       "        vertical-align: top;\n",
       "    }\n",
       "\n",
       "    .dataframe thead th {\n",
       "        text-align: right;\n",
       "    }\n",
       "</style>\n",
       "<table border=\"1\" class=\"dataframe\">\n",
       "  <thead>\n",
       "    <tr style=\"text-align: right;\">\n",
       "      <th></th>\n",
       "      <th>created</th>\n",
       "      <th>id</th>\n",
       "      <th>author</th>\n",
       "      <th>retrieved</th>\n",
       "      <th>edited</th>\n",
       "      <th>pinned</th>\n",
       "      <th>archived</th>\n",
       "      <th>locked</th>\n",
       "      <th>removed</th>\n",
       "      <th>deleted</th>\n",
       "      <th>is_self</th>\n",
       "      <th>is_video</th>\n",
       "      <th>is_original_content</th>\n",
       "      <th>title</th>\n",
       "      <th>link_flair_text</th>\n",
       "      <th>upvote_ratio</th>\n",
       "      <th>score</th>\n",
       "      <th>gilded</th>\n",
       "      <th>total_awards_received</th>\n",
       "      <th>num_comments</th>\n",
       "      <th>num_crossposts</th>\n",
       "      <th>selftext</th>\n",
       "      <th>thumbnail</th>\n",
       "      <th>shortlink</th>\n",
       "    </tr>\n",
       "  </thead>\n",
       "  <tbody>\n",
       "    <tr>\n",
       "      <th>0</th>\n",
       "      <td>2021-01-01 00:02:06</td>\n",
       "      <td>ko124i</td>\n",
       "      <td>[deleted]</td>\n",
       "      <td>2021-02-02 21:52:13</td>\n",
       "      <td>1970-01-01 00:00:00</td>\n",
       "      <td>0</td>\n",
       "      <td>0</td>\n",
       "      <td>0</td>\n",
       "      <td>1</td>\n",
       "      <td>1</td>\n",
       "      <td>1</td>\n",
       "      <td>0</td>\n",
       "      <td>0</td>\n",
       "      <td>3k - 170k since March (Also buy LIT!!)</td>\n",
       "      <td>Gain</td>\n",
       "      <td>1.0</td>\n",
       "      <td>34</td>\n",
       "      <td>0</td>\n",
       "      <td>1</td>\n",
       "      <td>14</td>\n",
       "      <td>0</td>\n",
       "      <td>[deleted]</td>\n",
       "      <td>default</td>\n",
       "      <td>https://redd.it/ko124i</td>\n",
       "    </tr>\n",
       "  </tbody>\n",
       "</table>\n",
       "</div>"
      ],
      "text/plain": [
       "               created      id     author            retrieved  \\\n",
       "0  2021-01-01 00:02:06  ko124i  [deleted]  2021-02-02 21:52:13   \n",
       "\n",
       "                edited  pinned  archived  locked  removed  deleted  is_self  \\\n",
       "0  1970-01-01 00:00:00       0         0       0        1        1        1   \n",
       "\n",
       "   is_video  is_original_content                                   title  \\\n",
       "0         0                    0  3k - 170k since March (Also buy LIT!!)   \n",
       "\n",
       "  link_flair_text  upvote_ratio  score  gilded  total_awards_received  \\\n",
       "0            Gain           1.0     34       0                      1   \n",
       "\n",
       "   num_comments  num_crossposts   selftext thumbnail               shortlink  \n",
       "0            14               0  [deleted]   default  https://redd.it/ko124i  "
      ]
     },
     "execution_count": 228,
     "metadata": {},
     "output_type": "execute_result"
    }
   ],
   "source": [
    "df.head(1)"
   ]
  },
  {
   "cell_type": "code",
   "execution_count": 229,
   "metadata": {},
   "outputs": [
    {
     "data": {
      "text/plain": [
       "Index(['gilded', 'total_awards_received', 'num_comments'], dtype='object')"
      ]
     },
     "execution_count": 229,
     "metadata": {},
     "output_type": "execute_result"
    }
   ],
   "source": [
    "df.columns[17:20]"
   ]
  },
  {
   "cell_type": "markdown",
   "metadata": {},
   "source": [
    "### Converting types"
   ]
  },
  {
   "cell_type": "code",
   "execution_count": 230,
   "metadata": {},
   "outputs": [
    {
     "name": "stdout",
     "output_type": "stream",
     "text": [
      "<class 'pandas.core.frame.DataFrame'>\n",
      "RangeIndex: 1483575 entries, 0 to 1483574\n",
      "Data columns (total 24 columns):\n",
      " #   Column                 Non-Null Count    Dtype  \n",
      "---  ------                 --------------    -----  \n",
      " 0   created                1483575 non-null  object \n",
      " 1   id                     1483575 non-null  object \n",
      " 2   author                 1483575 non-null  object \n",
      " 3   retrieved              1483575 non-null  object \n",
      " 4   edited                 1483575 non-null  object \n",
      " 5   pinned                 1483575 non-null  int64  \n",
      " 6   archived               1483575 non-null  int64  \n",
      " 7   locked                 1483575 non-null  int64  \n",
      " 8   removed                1483575 non-null  int64  \n",
      " 9   deleted                1483575 non-null  int64  \n",
      " 10  is_self                1483575 non-null  int64  \n",
      " 11  is_video               1483575 non-null  int64  \n",
      " 12  is_original_content    1483575 non-null  int64  \n",
      " 13  title                  1483573 non-null  object \n",
      " 14  link_flair_text        1483575 non-null  object \n",
      " 15  upvote_ratio           1483575 non-null  float64\n",
      " 16  score                  1483575 non-null  int64  \n",
      " 17  gilded                 1483575 non-null  int64  \n",
      " 18  total_awards_received  1483575 non-null  int64  \n",
      " 19  num_comments           1483575 non-null  int64  \n",
      " 20  num_crossposts         1483575 non-null  int64  \n",
      " 21  selftext               1037173 non-null  object \n",
      " 22  thumbnail              1483575 non-null  object \n",
      " 23  shortlink              1483575 non-null  object \n",
      "dtypes: float64(1), int64(13), object(10)\n",
      "memory usage: 271.7+ MB\n"
     ]
    }
   ],
   "source": [
    "df.info()"
   ]
  },
  {
   "cell_type": "code",
   "execution_count": null,
   "metadata": {},
   "outputs": [],
   "source": []
  },
  {
   "cell_type": "code",
   "execution_count": 231,
   "metadata": {},
   "outputs": [],
   "source": [
    "\n",
    "\n",
    "# date time columns\n",
    "df['created'] =  pd.to_datetime(df['created'], format='%Y-%m-%d %H:%M:%S.%f')\n",
    "df['retrieved'] =  pd.to_datetime(df['retrieved'], format='%Y-%m-%d %H:%M:%S.%f')\n",
    "df['edited'] =  pd.to_datetime(df['edited'], format='%Y-%m-%d %H:%M:%S.%f')\n",
    "\n",
    "# boolean / categorical variables\n",
    "df['pinned'] = df['pinned'].astype('bool')\n",
    "df['archived'] = df['archived'].astype('bool')\n",
    "df['locked'] = df['locked'].astype('bool')\n",
    "df['removed'] = df['removed'].astype('bool')\n",
    "df['deleted'] = df['deleted'].astype('bool')\n",
    "df['is_self'] = df['is_self'].astype('bool')\n",
    "df['is_video'] = df['is_video'].astype('bool')\n",
    "df['is_original_content'] = df['is_original_content'].astype('bool')\n",
    "\n",
    "# int types\n",
    "df['score'] = df['score'].astype('int')\n",
    "df['gilded'] = df['gilded'].astype('int')\n",
    "df['total_awards_received'] = df['total_awards_received'].astype('int')\n",
    "df['num_comments'] = df['num_comments'].astype('int')\n",
    "df['num_crossposts'] = df['num_crossposts'].astype('int')\n",
    "\n"
   ]
  },
  {
   "cell_type": "markdown",
   "metadata": {},
   "source": [
    "Columns:    \n",
    "| Index | Feature               | Type     | Description                                                    | \n",
    "|-------|-----------------------|----------|----------------------------------------------------------------|\n",
    "| 0     | id                    | string   | The id of the submission                                       |\n",
    "| 1     | author                | string   | The redditors username                                         |\n",
    "| 2     | created               | datetime | Time the submission was created                                |\n",
    "| 3     | retrieved             | datetime | Time the submission was retrieved                              |\n",
    "| 4     | edited                | datetime | Time the submission was modified                               |\n",
    "| 5     | pinned                | boolean  | Whether or not the submission is pinned                        |\n",
    "| 6     | archived              | boolean  | Whether or not the submission is archived                      |\n",
    "| 7     | locked                | boolean  | Whether or not the submission is locked                        |\n",
    "| 8     | removed               | boolean  | Whether or not the submission is removed                       |\n",
    "| 9     | deleted               | boolean  | Whether or not the submission is user deleted                  |\n",
    "| 10    | is_self               | boolean  | Whether or not the submission is a text                        |\n",
    "| 11    | is_video              | boolean  | Whether or not the submission is a video                       |\n",
    "| 12    | is_original_content   | boolean  | Whether or not the submission has been set as original content |\n",
    "| 13    | title                 | string   | Title of the submission                                        |\n",
    "| 14    | link_flair_text       | string   | Submission link flairs text content                            |\n",
    "| 15    | upvote_ratio          | double   | Percentage of upvotes from all votes on submission             |\n",
    "| 16    | score                 | integer  | number of upvotes                                              |\n",
    "| 17    | gilded                | integer  | number of gilded awards                                        |\n",
    "| 18    | total_awards_received | integer  | number of awards on the submission                             |\n",
    "| 19    | num_comments          | integer  | number of comments on the submission                           |\n",
    "| 20    | num_crossposts        | integer  | number of crossposts on the submission                         |\n",
    "| 21    | selftext              | string   | submission selftext on text posts                              |\n",
    "| 22    | thumbnail             | string   | submission thumbnail on image posts                            |\n",
    "| 23    | shortlink             | string   | submission short url                                           |    "
   ]
  },
  {
   "cell_type": "markdown",
   "metadata": {},
   "source": [
    "### Cleaning functions for Title\n",
    "\n",
    "\n",
    "Things that need to be cleaned from \"Title\":\n",
    "- New lines\n",
    "- Emojis (convert or remove?)\n",
    "- Spam messages (possibly only take posts that have a certain number of upvotes)\n",
    "- links (need to remove entire record if link is only thing)\n",
    "- videos (same as link)\n",
    "- A lot of records do not talk about a specific stock. (Remove them?)"
   ]
  },
  {
   "cell_type": "code",
   "execution_count": 232,
   "metadata": {},
   "outputs": [
    {
     "name": "stdout",
     "output_type": "stream",
     "text": [
      "False    1483575\n",
      "Name: pinned, dtype: int64\n",
      "False    1483575\n",
      "Name: archived, dtype: int64\n",
      "False    1478803\n",
      "True        4772\n",
      "Name: locked, dtype: int64\n",
      "True     997962\n",
      "False    485613\n",
      "Name: removed, dtype: int64\n",
      "False    1345959\n",
      "True      137616\n",
      "Name: deleted, dtype: int64\n",
      "True     945261\n",
      "False    538314\n",
      "Name: is_self, dtype: int64\n"
     ]
    }
   ],
   "source": [
    "for col in df.columns[5:11]:\n",
    "    print(df[col].value_counts())"
   ]
  },
  {
   "attachments": {},
   "cell_type": "markdown",
   "metadata": {},
   "source": [
    "Columns that can be removed for sure:\n",
    "- id\n",
    "- shortlink  \n",
    "- thumbnail\n",
    "- retrieved\n",
    "- edited \n",
    "- pinned  \n",
    "- archived  \n",
    "- locked  \n",
    "- removed (if removed is true should we discard the record?)\n",
    "- deleted (same as removed)\n",
    "- is_self   \n",
    "- is_video (use as flag to remove records?)\n",
    "- gilded   \n",
    "\n",
    "Maybe keep:   (general stats about the post)\n",
    "- score\n",
    "- upvote_ratio\n",
    "- comments\n",
    "\n",
    "Keep:     \n",
    "- created\n",
    "- title + selftext\n",
    "\n",
    "\n",
    "\n",
    "\n",
    "Can we combine comments into a score. The score could be a weighted average of upvote ratio, comments, etc."
   ]
  },
  {
   "cell_type": "code",
   "execution_count": 233,
   "metadata": {},
   "outputs": [
    {
     "data": {
      "text/plain": [
       "[removed]                                                                                                                                                                                                                                                                                                                                                                                                                                                                                                                                                                                                                                                                                                                                                                                                                                                                                                                                                                                                                                                                                                                                                                                                                             592330\n",
       "[deleted]                                                                                                                                                                                                                                                                                                                                                                                                                                                                                                                                                                                                                                                                                                                                                                                                                                                                                                                                                                                                                                                                                                                                                                                                                             137616\n",
       "Please  use this thread to have discussions which you don't feel warrant a new  post to the sub. While the Rules for posting questions on the basics of  personal finance/investing topics are relaxed a little bit here  the  rules against memes/spam/self-promotion/excessive rudeness/politics  still apply!Have a look at the [FAQ](https://www.reddit.com/r/financialindependence/wiki/faq) for this subreddit before posting to see if your question is frequently asked. Since this post does tend to get busy  consider sorting the comments  by new (instead of best or top) to see the newest posts.                                                                                                                                                                                                                                                                                                                                                                                                                                                                                                                                                                                                                          353\n",
       "If your question is I have $10 000  what do I do? or other advice for my personal situation questions  you should include relevant information  such as the following:* How old are you? What country do you live in?  * Are you employed/making income? How much?  * What are your objectives with this money? (Buy a house? Retirement savings?)  * What is your time horizon? Do you need this money next month? Next 20yrs?  * What is your risk tolerance? (Do you mind risking it at blackjack or do you need to know its 100% safe?)  * What are you current holdings? (Do you already have exposure to specific funds and sectors? Any other assets?)  * Any big debts (include interest rate) or expenses?  * And any other relevant financial information will be useful to give you a proper answer.  Please consider consulting our FAQ first - https://www.reddit.com/r/investing/wiki/faqAnd our [side bar](https://www.reddit.com/r/investing/about/sidebar) also has useful resources.  Be aware that these answers are just opinions of Redditors and should be used as a starting point for your research. You should strongly consider seeing a registered financial rep before making any financial decisions!       322\n",
       "Name: selftext, dtype: int64"
      ]
     },
     "execution_count": 233,
     "metadata": {},
     "output_type": "execute_result"
    }
   ],
   "source": [
    "df['selftext'].value_counts()[0:4]"
   ]
  },
  {
   "cell_type": "markdown",
   "metadata": {},
   "source": [
    "A lot of self-text posts remove the text after or delete it. And there are some additional messages that seem to be from bots that we could probably remove as well. I suggest removing 'deleted' and 'removed' and have an empty string instead. I think we should also combine this column with the title column so we only have one column with text. "
   ]
  },
  {
   "cell_type": "code",
   "execution_count": 234,
   "metadata": {},
   "outputs": [
    {
     "data": {
      "text/html": [
       "<div>\n",
       "<style scoped>\n",
       "    .dataframe tbody tr th:only-of-type {\n",
       "        vertical-align: middle;\n",
       "    }\n",
       "\n",
       "    .dataframe tbody tr th {\n",
       "        vertical-align: top;\n",
       "    }\n",
       "\n",
       "    .dataframe thead th {\n",
       "        text-align: right;\n",
       "    }\n",
       "</style>\n",
       "<table border=\"1\" class=\"dataframe\">\n",
       "  <thead>\n",
       "    <tr style=\"text-align: right;\">\n",
       "      <th></th>\n",
       "      <th>created</th>\n",
       "      <th>id</th>\n",
       "      <th>author</th>\n",
       "      <th>retrieved</th>\n",
       "      <th>edited</th>\n",
       "      <th>pinned</th>\n",
       "      <th>archived</th>\n",
       "      <th>locked</th>\n",
       "      <th>removed</th>\n",
       "      <th>deleted</th>\n",
       "      <th>is_self</th>\n",
       "      <th>is_video</th>\n",
       "      <th>is_original_content</th>\n",
       "      <th>title</th>\n",
       "      <th>link_flair_text</th>\n",
       "      <th>upvote_ratio</th>\n",
       "      <th>score</th>\n",
       "      <th>gilded</th>\n",
       "      <th>total_awards_received</th>\n",
       "      <th>num_comments</th>\n",
       "      <th>num_crossposts</th>\n",
       "      <th>selftext</th>\n",
       "      <th>thumbnail</th>\n",
       "      <th>shortlink</th>\n",
       "    </tr>\n",
       "  </thead>\n",
       "  <tbody>\n",
       "    <tr>\n",
       "      <th>0</th>\n",
       "      <td>2021-01-01 00:02:06</td>\n",
       "      <td>ko124i</td>\n",
       "      <td>[deleted]</td>\n",
       "      <td>2021-02-02 21:52:13</td>\n",
       "      <td>1970-01-01</td>\n",
       "      <td>False</td>\n",
       "      <td>False</td>\n",
       "      <td>False</td>\n",
       "      <td>True</td>\n",
       "      <td>True</td>\n",
       "      <td>True</td>\n",
       "      <td>False</td>\n",
       "      <td>False</td>\n",
       "      <td>3k - 170k since March (Also buy LIT!!)</td>\n",
       "      <td>Gain</td>\n",
       "      <td>1.00</td>\n",
       "      <td>34</td>\n",
       "      <td>0</td>\n",
       "      <td>1</td>\n",
       "      <td>14</td>\n",
       "      <td>0</td>\n",
       "      <td>[deleted]</td>\n",
       "      <td>default</td>\n",
       "      <td>https://redd.it/ko124i</td>\n",
       "    </tr>\n",
       "    <tr>\n",
       "      <th>9</th>\n",
       "      <td>2021-01-01 00:13:41</td>\n",
       "      <td>ko190a</td>\n",
       "      <td>[deleted]</td>\n",
       "      <td>2021-02-03 21:12:56</td>\n",
       "      <td>1970-01-01</td>\n",
       "      <td>False</td>\n",
       "      <td>False</td>\n",
       "      <td>False</td>\n",
       "      <td>True</td>\n",
       "      <td>True</td>\n",
       "      <td>True</td>\n",
       "      <td>False</td>\n",
       "      <td>False</td>\n",
       "      <td>TSXV ROVR OTCQB ROVMF could be getting ready t...</td>\n",
       "      <td>General Discussion</td>\n",
       "      <td>1.00</td>\n",
       "      <td>1</td>\n",
       "      <td>0</td>\n",
       "      <td>0</td>\n",
       "      <td>0</td>\n",
       "      <td>0</td>\n",
       "      <td>[deleted]</td>\n",
       "      <td>default</td>\n",
       "      <td>https://redd.it/ko190a</td>\n",
       "    </tr>\n",
       "    <tr>\n",
       "      <th>11</th>\n",
       "      <td>2021-01-01 00:18:03</td>\n",
       "      <td>ko1bnp</td>\n",
       "      <td>dluther93</td>\n",
       "      <td>2021-02-02 21:52:13</td>\n",
       "      <td>1970-01-01</td>\n",
       "      <td>False</td>\n",
       "      <td>False</td>\n",
       "      <td>False</td>\n",
       "      <td>True</td>\n",
       "      <td>False</td>\n",
       "      <td>True</td>\n",
       "      <td>False</td>\n",
       "      <td>False</td>\n",
       "      <td>What would make GME shorts win?</td>\n",
       "      <td>Discussion</td>\n",
       "      <td>1.00</td>\n",
       "      <td>1</td>\n",
       "      <td>0</td>\n",
       "      <td>0</td>\n",
       "      <td>0</td>\n",
       "      <td>0</td>\n",
       "      <td>[removed]</td>\n",
       "      <td>default</td>\n",
       "      <td>https://redd.it/ko1bnp</td>\n",
       "    </tr>\n",
       "    <tr>\n",
       "      <th>15</th>\n",
       "      <td>2021-01-01 00:18:57</td>\n",
       "      <td>ko1c6o</td>\n",
       "      <td>[deleted]</td>\n",
       "      <td>2021-02-03 21:17:46</td>\n",
       "      <td>1970-01-01</td>\n",
       "      <td>False</td>\n",
       "      <td>False</td>\n",
       "      <td>False</td>\n",
       "      <td>True</td>\n",
       "      <td>True</td>\n",
       "      <td>True</td>\n",
       "      <td>False</td>\n",
       "      <td>False</td>\n",
       "      <td>Stocks for beginners: How do you know which st...</td>\n",
       "      <td>None</td>\n",
       "      <td>0.55</td>\n",
       "      <td>1</td>\n",
       "      <td>0</td>\n",
       "      <td>0</td>\n",
       "      <td>14</td>\n",
       "      <td>0</td>\n",
       "      <td>[deleted]</td>\n",
       "      <td>default</td>\n",
       "      <td>https://redd.it/ko1c6o</td>\n",
       "    </tr>\n",
       "    <tr>\n",
       "      <th>16</th>\n",
       "      <td>2021-01-01 00:18:57</td>\n",
       "      <td>ko1c6o</td>\n",
       "      <td>[deleted]</td>\n",
       "      <td>2021-02-03 21:17:46</td>\n",
       "      <td>1970-01-01</td>\n",
       "      <td>False</td>\n",
       "      <td>False</td>\n",
       "      <td>False</td>\n",
       "      <td>True</td>\n",
       "      <td>True</td>\n",
       "      <td>True</td>\n",
       "      <td>False</td>\n",
       "      <td>False</td>\n",
       "      <td>Stocks for beginners: How do you know which st...</td>\n",
       "      <td>None</td>\n",
       "      <td>0.55</td>\n",
       "      <td>1</td>\n",
       "      <td>0</td>\n",
       "      <td>0</td>\n",
       "      <td>14</td>\n",
       "      <td>0</td>\n",
       "      <td>[deleted]</td>\n",
       "      <td>default</td>\n",
       "      <td>https://redd.it/ko1c6o</td>\n",
       "    </tr>\n",
       "    <tr>\n",
       "      <th>...</th>\n",
       "      <td>...</td>\n",
       "      <td>...</td>\n",
       "      <td>...</td>\n",
       "      <td>...</td>\n",
       "      <td>...</td>\n",
       "      <td>...</td>\n",
       "      <td>...</td>\n",
       "      <td>...</td>\n",
       "      <td>...</td>\n",
       "      <td>...</td>\n",
       "      <td>...</td>\n",
       "      <td>...</td>\n",
       "      <td>...</td>\n",
       "      <td>...</td>\n",
       "      <td>...</td>\n",
       "      <td>...</td>\n",
       "      <td>...</td>\n",
       "      <td>...</td>\n",
       "      <td>...</td>\n",
       "      <td>...</td>\n",
       "      <td>...</td>\n",
       "      <td>...</td>\n",
       "      <td>...</td>\n",
       "      <td>...</td>\n",
       "    </tr>\n",
       "    <tr>\n",
       "      <th>1483564</th>\n",
       "      <td>2021-12-31 23:46:45</td>\n",
       "      <td>rt6fuz</td>\n",
       "      <td>[deleted]</td>\n",
       "      <td>2022-01-01 03:29:07</td>\n",
       "      <td>1970-01-01</td>\n",
       "      <td>False</td>\n",
       "      <td>False</td>\n",
       "      <td>False</td>\n",
       "      <td>True</td>\n",
       "      <td>False</td>\n",
       "      <td>True</td>\n",
       "      <td>False</td>\n",
       "      <td>False</td>\n",
       "      <td>I'm about to start making $120K salary. Should...</td>\n",
       "      <td>Auto</td>\n",
       "      <td>1.00</td>\n",
       "      <td>1</td>\n",
       "      <td>0</td>\n",
       "      <td>0</td>\n",
       "      <td>1</td>\n",
       "      <td>0</td>\n",
       "      <td>[removed]</td>\n",
       "      <td>default</td>\n",
       "      <td>https://redd.it/rt6fuz</td>\n",
       "    </tr>\n",
       "    <tr>\n",
       "      <th>1483565</th>\n",
       "      <td>2021-12-31 23:48:27</td>\n",
       "      <td>rt6gxc</td>\n",
       "      <td>peachezandsteam</td>\n",
       "      <td>2022-01-01 03:29:52</td>\n",
       "      <td>1970-01-01</td>\n",
       "      <td>False</td>\n",
       "      <td>False</td>\n",
       "      <td>False</td>\n",
       "      <td>True</td>\n",
       "      <td>False</td>\n",
       "      <td>True</td>\n",
       "      <td>False</td>\n",
       "      <td>False</td>\n",
       "      <td>Is the notable congresswoman's GOOG calls a gu...</td>\n",
       "      <td>Discussion</td>\n",
       "      <td>0.66</td>\n",
       "      <td>1</td>\n",
       "      <td>0</td>\n",
       "      <td>0</td>\n",
       "      <td>0</td>\n",
       "      <td>0</td>\n",
       "      <td>[removed]</td>\n",
       "      <td>https://b.thumbs.redditmedia.com/pp0YjoMYmhccq...</td>\n",
       "      <td>https://redd.it/rt6gxc</td>\n",
       "    </tr>\n",
       "    <tr>\n",
       "      <th>1483571</th>\n",
       "      <td>2021-12-31 23:55:49</td>\n",
       "      <td>rt6lul</td>\n",
       "      <td>coyote_of_the_month</td>\n",
       "      <td>2022-01-01 03:29:07</td>\n",
       "      <td>1970-01-01</td>\n",
       "      <td>False</td>\n",
       "      <td>False</td>\n",
       "      <td>False</td>\n",
       "      <td>True</td>\n",
       "      <td>False</td>\n",
       "      <td>True</td>\n",
       "      <td>False</td>\n",
       "      <td>False</td>\n",
       "      <td>Company was unable to process additional 403(b...</td>\n",
       "      <td>R5: Legal</td>\n",
       "      <td>1.00</td>\n",
       "      <td>1</td>\n",
       "      <td>0</td>\n",
       "      <td>0</td>\n",
       "      <td>3</td>\n",
       "      <td>0</td>\n",
       "      <td>[removed]</td>\n",
       "      <td>self</td>\n",
       "      <td>https://redd.it/rt6lul</td>\n",
       "    </tr>\n",
       "    <tr>\n",
       "      <th>1483572</th>\n",
       "      <td>2021-12-31 23:55:51</td>\n",
       "      <td>rt6lv6</td>\n",
       "      <td>[deleted]</td>\n",
       "      <td>2022-01-01 03:56:58</td>\n",
       "      <td>1970-01-01</td>\n",
       "      <td>False</td>\n",
       "      <td>False</td>\n",
       "      <td>False</td>\n",
       "      <td>True</td>\n",
       "      <td>False</td>\n",
       "      <td>True</td>\n",
       "      <td>False</td>\n",
       "      <td>False</td>\n",
       "      <td>Winner or loser? Only time will tell. 2021 end...</td>\n",
       "      <td>Discussion</td>\n",
       "      <td>1.00</td>\n",
       "      <td>1</td>\n",
       "      <td>0</td>\n",
       "      <td>0</td>\n",
       "      <td>1</td>\n",
       "      <td>0</td>\n",
       "      <td>[removed]</td>\n",
       "      <td>default</td>\n",
       "      <td>https://redd.it/rt6lv6</td>\n",
       "    </tr>\n",
       "    <tr>\n",
       "      <th>1483574</th>\n",
       "      <td>2021-12-31 23:59:44</td>\n",
       "      <td>rt6oau</td>\n",
       "      <td>[deleted]</td>\n",
       "      <td>2022-01-01 03:23:08</td>\n",
       "      <td>1970-01-01</td>\n",
       "      <td>False</td>\n",
       "      <td>False</td>\n",
       "      <td>False</td>\n",
       "      <td>True</td>\n",
       "      <td>False</td>\n",
       "      <td>True</td>\n",
       "      <td>False</td>\n",
       "      <td>False</td>\n",
       "      <td>SEC report debunked</td>\n",
       "      <td>🐵 Discussion 💬</td>\n",
       "      <td>1.00</td>\n",
       "      <td>2</td>\n",
       "      <td>0</td>\n",
       "      <td>0</td>\n",
       "      <td>0</td>\n",
       "      <td>0</td>\n",
       "      <td>[removed]</td>\n",
       "      <td>default</td>\n",
       "      <td>https://redd.it/rt6oau</td>\n",
       "    </tr>\n",
       "  </tbody>\n",
       "</table>\n",
       "<p>627321 rows × 24 columns</p>\n",
       "</div>"
      ],
      "text/plain": [
       "                    created      id               author           retrieved  \\\n",
       "0       2021-01-01 00:02:06  ko124i            [deleted] 2021-02-02 21:52:13   \n",
       "9       2021-01-01 00:13:41  ko190a            [deleted] 2021-02-03 21:12:56   \n",
       "11      2021-01-01 00:18:03  ko1bnp            dluther93 2021-02-02 21:52:13   \n",
       "15      2021-01-01 00:18:57  ko1c6o            [deleted] 2021-02-03 21:17:46   \n",
       "16      2021-01-01 00:18:57  ko1c6o            [deleted] 2021-02-03 21:17:46   \n",
       "...                     ...     ...                  ...                 ...   \n",
       "1483564 2021-12-31 23:46:45  rt6fuz            [deleted] 2022-01-01 03:29:07   \n",
       "1483565 2021-12-31 23:48:27  rt6gxc      peachezandsteam 2022-01-01 03:29:52   \n",
       "1483571 2021-12-31 23:55:49  rt6lul  coyote_of_the_month 2022-01-01 03:29:07   \n",
       "1483572 2021-12-31 23:55:51  rt6lv6            [deleted] 2022-01-01 03:56:58   \n",
       "1483574 2021-12-31 23:59:44  rt6oau            [deleted] 2022-01-01 03:23:08   \n",
       "\n",
       "            edited  pinned  archived  locked  removed  deleted  is_self  \\\n",
       "0       1970-01-01   False     False   False     True     True     True   \n",
       "9       1970-01-01   False     False   False     True     True     True   \n",
       "11      1970-01-01   False     False   False     True    False     True   \n",
       "15      1970-01-01   False     False   False     True     True     True   \n",
       "16      1970-01-01   False     False   False     True     True     True   \n",
       "...            ...     ...       ...     ...      ...      ...      ...   \n",
       "1483564 1970-01-01   False     False   False     True    False     True   \n",
       "1483565 1970-01-01   False     False   False     True    False     True   \n",
       "1483571 1970-01-01   False     False   False     True    False     True   \n",
       "1483572 1970-01-01   False     False   False     True    False     True   \n",
       "1483574 1970-01-01   False     False   False     True    False     True   \n",
       "\n",
       "         is_video  is_original_content  \\\n",
       "0           False                False   \n",
       "9           False                False   \n",
       "11          False                False   \n",
       "15          False                False   \n",
       "16          False                False   \n",
       "...           ...                  ...   \n",
       "1483564     False                False   \n",
       "1483565     False                False   \n",
       "1483571     False                False   \n",
       "1483572     False                False   \n",
       "1483574     False                False   \n",
       "\n",
       "                                                     title  \\\n",
       "0                   3k - 170k since March (Also buy LIT!!)   \n",
       "9        TSXV ROVR OTCQB ROVMF could be getting ready t...   \n",
       "11                         What would make GME shorts win?   \n",
       "15       Stocks for beginners: How do you know which st...   \n",
       "16       Stocks for beginners: How do you know which st...   \n",
       "...                                                    ...   \n",
       "1483564  I'm about to start making $120K salary. Should...   \n",
       "1483565  Is the notable congresswoman's GOOG calls a gu...   \n",
       "1483571  Company was unable to process additional 403(b...   \n",
       "1483572  Winner or loser? Only time will tell. 2021 end...   \n",
       "1483574                                SEC report debunked   \n",
       "\n",
       "            link_flair_text  upvote_ratio  score  gilded  \\\n",
       "0                      Gain          1.00     34       0   \n",
       "9        General Discussion          1.00      1       0   \n",
       "11               Discussion          1.00      1       0   \n",
       "15                     None          0.55      1       0   \n",
       "16                     None          0.55      1       0   \n",
       "...                     ...           ...    ...     ...   \n",
       "1483564                Auto          1.00      1       0   \n",
       "1483565          Discussion          0.66      1       0   \n",
       "1483571           R5: Legal          1.00      1       0   \n",
       "1483572          Discussion          1.00      1       0   \n",
       "1483574      🐵 Discussion 💬          1.00      2       0   \n",
       "\n",
       "         total_awards_received  num_comments  num_crossposts   selftext  \\\n",
       "0                            1            14               0  [deleted]   \n",
       "9                            0             0               0  [deleted]   \n",
       "11                           0             0               0  [removed]   \n",
       "15                           0            14               0  [deleted]   \n",
       "16                           0            14               0  [deleted]   \n",
       "...                        ...           ...             ...        ...   \n",
       "1483564                      0             1               0  [removed]   \n",
       "1483565                      0             0               0  [removed]   \n",
       "1483571                      0             3               0  [removed]   \n",
       "1483572                      0             1               0  [removed]   \n",
       "1483574                      0             0               0  [removed]   \n",
       "\n",
       "                                                 thumbnail  \\\n",
       "0                                                  default   \n",
       "9                                                  default   \n",
       "11                                                 default   \n",
       "15                                                 default   \n",
       "16                                                 default   \n",
       "...                                                    ...   \n",
       "1483564                                            default   \n",
       "1483565  https://b.thumbs.redditmedia.com/pp0YjoMYmhccq...   \n",
       "1483571                                               self   \n",
       "1483572                                            default   \n",
       "1483574                                            default   \n",
       "\n",
       "                      shortlink  \n",
       "0        https://redd.it/ko124i  \n",
       "9        https://redd.it/ko190a  \n",
       "11       https://redd.it/ko1bnp  \n",
       "15       https://redd.it/ko1c6o  \n",
       "16       https://redd.it/ko1c6o  \n",
       "...                         ...  \n",
       "1483564  https://redd.it/rt6fuz  \n",
       "1483565  https://redd.it/rt6gxc  \n",
       "1483571  https://redd.it/rt6lul  \n",
       "1483572  https://redd.it/rt6lv6  \n",
       "1483574  https://redd.it/rt6oau  \n",
       "\n",
       "[627321 rows x 24 columns]"
      ]
     },
     "execution_count": 234,
     "metadata": {},
     "output_type": "execute_result"
    }
   ],
   "source": [
    "df[(df['is_self'] == 1) & (df['removed'] == 1)]"
   ]
  },
  {
   "cell_type": "code",
   "execution_count": 235,
   "metadata": {},
   "outputs": [
    {
     "data": {
      "text/plain": [
       "default                                                                             849993\n",
       "self                                                                                431161\n",
       "image                                                                               113541\n",
       "nsfw                                                                                  3317\n",
       "spoiler                                                                               1925\n",
       "                                                                                     ...  \n",
       "https://a.thumbs.redditmedia.com/m8QV6nOfMondOzYlaoRpWQ2qjYjz0SB5DezQixtPfM8.jpg         1\n",
       "https://a.thumbs.redditmedia.com/UvYbtr6hGZ3WFrk32-3oT-hJ18H50aStwX8RF08zKn8.jpg         1\n",
       "https://a.thumbs.redditmedia.com/wL3ECjUia5J3zuQ3dVSnqtdMUag0o2sie4tMQjXXRu8.jpg         1\n",
       "https://b.thumbs.redditmedia.com/3b2alO76OukxzyuDfWZzxld-1X7UqPsuvjqslCtvfwU.jpg         1\n",
       "https://b.thumbs.redditmedia.com/TtUVXN1XpoXXuzY85bJMNo1451L4fTOqYqKailX9M-c.jpg         1\n",
       "Name: thumbnail, Length: 82573, dtype: int64"
      ]
     },
     "execution_count": 235,
     "metadata": {},
     "output_type": "execute_result"
    }
   ],
   "source": [
    "df['thumbnail'].value_counts()"
   ]
  },
  {
   "cell_type": "code",
   "execution_count": 236,
   "metadata": {},
   "outputs": [
    {
     "data": {
      "text/plain": [
       "Index(['created', 'id', 'author', 'retrieved', 'edited', 'pinned', 'archived',\n",
       "       'locked', 'removed', 'deleted', 'is_self', 'is_video',\n",
       "       'is_original_content', 'title', 'link_flair_text', 'upvote_ratio',\n",
       "       'score', 'gilded', 'total_awards_received', 'num_comments',\n",
       "       'num_crossposts', 'selftext', 'thumbnail', 'shortlink'],\n",
       "      dtype='object')"
      ]
     },
     "execution_count": 236,
     "metadata": {},
     "output_type": "execute_result"
    }
   ],
   "source": [
    "df.columns"
   ]
  },
  {
   "cell_type": "markdown",
   "metadata": {},
   "source": [
    "### We just want the text for the most part\n",
    "\n",
    "Experimenting with upvote_ratio and score as well.\n"
   ]
  },
  {
   "cell_type": "code",
   "execution_count": 237,
   "metadata": {},
   "outputs": [],
   "source": [
    "df = df[['created','removed', 'deleted', 'is_self','title', 'upvote_ratio', 'score', 'selftext']]"
   ]
  },
  {
   "attachments": {},
   "cell_type": "markdown",
   "metadata": {},
   "source": [
    "pseudocode:   \n",
    "```\n",
    "if removed or deleted:    \n",
    "    just take title  and date\n",
    "\n",
    "if is_self and not removed or deleted and type(selftext) is string:\n",
    "    take date, title + selftext\n",
    "else:\n",
    "    take date, title\n",
    "\n",
    "```"
   ]
  },
  {
   "cell_type": "code",
   "execution_count": 238,
   "metadata": {},
   "outputs": [
    {
     "name": "stderr",
     "output_type": "stream",
     "text": [
      "C:\\Users\\paganinik\\AppData\\Local\\Temp\\ipykernel_2184\\1633618752.py:2: SettingWithCopyWarning: \n",
      "A value is trying to be set on a copy of a slice from a DataFrame.\n",
      "Try using .loc[row_indexer,col_indexer] = value instead\n",
      "\n",
      "See the caveats in the documentation: https://pandas.pydata.org/pandas-docs/stable/user_guide/indexing.html#returning-a-view-versus-a-copy\n",
      "  df_extracted['text'] = df_extracted['title'] + ' ' + df_extracted['selftext']\n"
     ]
    }
   ],
   "source": [
    "df_extracted = df.loc[df['is_self'] & ~(df['removed'] | df['deleted']) & (df['selftext'].apply(lambda x: type(x) == str))]\n",
    "df_extracted['text'] = df_extracted['title'] + ' ' + df_extracted['selftext']\n",
    "df_extracted = df_extracted[['created', 'text', 'upvote_ratio', 'score']]"
   ]
  },
  {
   "cell_type": "code",
   "execution_count": 239,
   "metadata": {},
   "outputs": [
    {
     "data": {
      "text/html": [
       "<div>\n",
       "<style scoped>\n",
       "    .dataframe tbody tr th:only-of-type {\n",
       "        vertical-align: middle;\n",
       "    }\n",
       "\n",
       "    .dataframe tbody tr th {\n",
       "        vertical-align: top;\n",
       "    }\n",
       "\n",
       "    .dataframe thead th {\n",
       "        text-align: right;\n",
       "    }\n",
       "</style>\n",
       "<table border=\"1\" class=\"dataframe\">\n",
       "  <thead>\n",
       "    <tr style=\"text-align: right;\">\n",
       "      <th></th>\n",
       "      <th>created</th>\n",
       "      <th>text</th>\n",
       "      <th>upvote_ratio</th>\n",
       "      <th>score</th>\n",
       "    </tr>\n",
       "  </thead>\n",
       "  <tbody>\n",
       "    <tr>\n",
       "      <th>3</th>\n",
       "      <td>2021-01-01 00:05:17</td>\n",
       "      <td>Advice for someone who's never dealt with stoc...</td>\n",
       "      <td>0.40</td>\n",
       "      <td>0</td>\n",
       "    </tr>\n",
       "    <tr>\n",
       "      <th>4</th>\n",
       "      <td>2021-01-01 00:05:17</td>\n",
       "      <td>Advice for someone who's never dealt with stoc...</td>\n",
       "      <td>0.40</td>\n",
       "      <td>0</td>\n",
       "    </tr>\n",
       "    <tr>\n",
       "      <th>7</th>\n",
       "      <td>2021-01-01 00:13:13</td>\n",
       "      <td>So /r/stocks what was your 2020 investment rat...</td>\n",
       "      <td>0.63</td>\n",
       "      <td>4</td>\n",
       "    </tr>\n",
       "    <tr>\n",
       "      <th>8</th>\n",
       "      <td>2021-01-01 00:13:13</td>\n",
       "      <td>So /r/stocks what was your 2020 investment rat...</td>\n",
       "      <td>0.63</td>\n",
       "      <td>4</td>\n",
       "    </tr>\n",
       "    <tr>\n",
       "      <th>10</th>\n",
       "      <td>2021-01-01 00:15:38</td>\n",
       "      <td>WSBVoteBot Log for Jan 01 2021 Every time a ne...</td>\n",
       "      <td>0.50</td>\n",
       "      <td>0</td>\n",
       "    </tr>\n",
       "  </tbody>\n",
       "</table>\n",
       "</div>"
      ],
      "text/plain": [
       "               created                                               text  \\\n",
       "3  2021-01-01 00:05:17  Advice for someone who's never dealt with stoc...   \n",
       "4  2021-01-01 00:05:17  Advice for someone who's never dealt with stoc...   \n",
       "7  2021-01-01 00:13:13  So /r/stocks what was your 2020 investment rat...   \n",
       "8  2021-01-01 00:13:13  So /r/stocks what was your 2020 investment rat...   \n",
       "10 2021-01-01 00:15:38  WSBVoteBot Log for Jan 01 2021 Every time a ne...   \n",
       "\n",
       "    upvote_ratio  score  \n",
       "3           0.40      0  \n",
       "4           0.40      0  \n",
       "7           0.63      4  \n",
       "8           0.63      4  \n",
       "10          0.50      0  "
      ]
     },
     "execution_count": 239,
     "metadata": {},
     "output_type": "execute_result"
    }
   ],
   "source": [
    "df_extracted.head()"
   ]
  },
  {
   "cell_type": "code",
   "execution_count": null,
   "metadata": {},
   "outputs": [],
   "source": []
  },
  {
   "cell_type": "code",
   "execution_count": 240,
   "metadata": {},
   "outputs": [
    {
     "data": {
      "text/plain": [
       "(306368, 4)"
      ]
     },
     "execution_count": 240,
     "metadata": {},
     "output_type": "execute_result"
    }
   ],
   "source": [
    "df_extracted.shape"
   ]
  },
  {
   "cell_type": "code",
   "execution_count": 241,
   "metadata": {},
   "outputs": [
    {
     "data": {
      "text/plain": [
       "3     Advice for someone who's never dealt with stoc...\n",
       "4     Advice for someone who's never dealt with stoc...\n",
       "7     So /r/stocks what was your 2020 investment rat...\n",
       "8     So /r/stocks what was your 2020 investment rat...\n",
       "10    WSBVoteBot Log for Jan 01 2021 Every time a ne...\n",
       "14    Hedging your portfolio Just out of curiosity  ...\n",
       "20    BNGO Bear Case (Serious) I'm actually quite sk...\n",
       "21    Daily Executions- December 31 2020 Hi Everyone...\n",
       "35    Built two Google Sheets templates with automat...\n",
       "36    Built two Google Sheets templates with automat...\n",
       "41    $GAXY Youtuber London Investor will interview ...\n",
       "47    Thoughts on Old School Value's stock tracking ...\n",
       "57    GME is the Rockets 🚀🚀🚀🚀 Gamestop colors: Red  ...\n",
       "58    Western Digital (WDC) rose 11.83% today. Anybo...\n",
       "59    ARK invest selling $TSLA Ark invest ETF’s ARKW...\n",
       "60    ARK invest selling $TSLA Ark invest ETF’s ARKW...\n",
       "66    Recent IPO Chindata (CD). Looks promising. Wha...\n",
       "67    Recent IPO Chindata (CD). Looks promising. Wha...\n",
       "70    AMC will be back. AMC had a rough year just li...\n",
       "77    Am I dumb for keeping 60% of my portfolio in A...\n",
       "Name: text, dtype: object"
      ]
     },
     "execution_count": 241,
     "metadata": {},
     "output_type": "execute_result"
    }
   ],
   "source": [
    "\n",
    "df_extracted['text'].head(20)\n"
   ]
  },
  {
   "attachments": {},
   "cell_type": "markdown",
   "metadata": {},
   "source": [
    "### Removing emojis"
   ]
  },
  {
   "cell_type": "code",
   "execution_count": 242,
   "metadata": {},
   "outputs": [],
   "source": [
    "df_extracted['text'] = df_extracted['text'].str.encode('ascii', 'ignore').str.decode('ascii')"
   ]
  },
  {
   "cell_type": "markdown",
   "metadata": {},
   "source": [
    "### Removing links"
   ]
  },
  {
   "cell_type": "code",
   "execution_count": 243,
   "metadata": {},
   "outputs": [
    {
     "data": {
      "text/plain": [
       "'WSBVoteBot Log for Jan 01 2021 Every time a new submission is posted to wallstreetbets /u/wsbvotebot posts a comment that allows you to click and vote to remove that submission. This is the log of volunteer moderators actions which you can vote to reverse. [Check the leaderboard](https://www.reddit.com/r/wallstreetbets/wiki/leaderboard) to see who is doing the most to keep /r/wallstreetbets great.User commentary as replies to the messages below are encouraged. Report bugs to /u/zjz.'"
      ]
     },
     "execution_count": 243,
     "metadata": {},
     "output_type": "execute_result"
    }
   ],
   "source": [
    "df_extracted['text'][10]"
   ]
  },
  {
   "cell_type": "code",
   "execution_count": 244,
   "metadata": {},
   "outputs": [],
   "source": [
    "import re\n",
    "\n",
    "#regex from chatgpt seems to work\n",
    "url_pattern = re.compile(r\"(https?:\\/\\/(?:www\\.|(?!www))[a-zA-Z0-9][a-zA-Z0-9-]+[a-zA-Z0-9]\\.[^\\s]{2,}|www\\.[a-zA-Z0-9][a-zA-Z0-9-]+[a-zA-Z0-9]\\.[^\\s]{2,}|https?:\\/\\/(?:www\\.|(?!www))[a-zA-Z0-9]+\\.[^\\s]{2,}|www\\.[a-zA-Z0-9]+\\.[^\\s]{2,})\")\n",
    "df_extracted['text'] = df_extracted['text'].str.replace(url_pattern,'')"
   ]
  },
  {
   "attachments": {},
   "cell_type": "markdown",
   "metadata": {},
   "source": [
    "### Remove reddit mentions (Maybe)"
   ]
  },
  {
   "cell_type": "code",
   "execution_count": 245,
   "metadata": {},
   "outputs": [],
   "source": [
    "df_extracted['text'] = df_extracted['text'].str.replace(re.compile(r\"(\\/u\\/[a-zA-Z0-9]+|\\/r\\/[a-zA-Z0-9]+)\"),'')"
   ]
  },
  {
   "attachments": {},
   "cell_type": "markdown",
   "metadata": {},
   "source": [
    "### Remove Duplicate texts (likely from bots)"
   ]
  },
  {
   "cell_type": "code",
   "execution_count": 246,
   "metadata": {},
   "outputs": [
    {
     "name": "stdout",
     "output_type": "stream",
     "text": [
      "Shape before drop duplicates: (306368, 4)\n",
      "Shape after drop duplicates: (302003, 4)\n",
      "Records lost: 4365\n"
     ]
    }
   ],
   "source": [
    "before = df_extracted.shape[0]\n",
    "print(f'Shape before drop duplicates: {df_extracted.shape}')\n",
    "df_extracted = df_extracted.drop_duplicates(subset=[\"text\"], keep=False)\n",
    "print(f'Shape after drop duplicates: {df_extracted.shape}')\n",
    "print(f'Records lost: {before - df_extracted.shape[0]}')"
   ]
  },
  {
   "cell_type": "code",
   "execution_count": 247,
   "metadata": {},
   "outputs": [
    {
     "data": {
      "text/plain": [
       "10         WSBVoteBot Log for Jan 01 2021 Every time a ne...\n",
       "14         Hedging your portfolio Just out of curiosity  ...\n",
       "20         BNGO Bear Case (Serious) I'm actually quite sk...\n",
       "21         Daily Executions- December 31 2020 Hi Everyone...\n",
       "41         $GAXY Youtuber London Investor will interview ...\n",
       "                                 ...                        \n",
       "1483539    Why do people open up multiple positions of th...\n",
       "1483546    Five penny stocks to put on your watchlist in ...\n",
       "1483548    Any suggestion on what to do with an employer ...\n",
       "1483566    Best Keeper credit cards? What are the best ke...\n",
       "1483570    im a teen and i want to start investing in ind...\n",
       "Name: text, Length: 302003, dtype: object"
      ]
     },
     "execution_count": 247,
     "metadata": {},
     "output_type": "execute_result"
    }
   ],
   "source": [
    "df_extracted['text']"
   ]
  },
  {
   "attachments": {},
   "cell_type": "markdown",
   "metadata": {},
   "source": [
    "### Extracting what each post is about (ticker information)\n",
    "\n",
    "\n",
    "Need to add more tickers"
   ]
  },
  {
   "cell_type": "code",
   "execution_count": null,
   "metadata": {},
   "outputs": [],
   "source": []
  },
  {
   "cell_type": "code",
   "execution_count": 248,
   "metadata": {},
   "outputs": [],
   "source": [
    "import json\n",
    "\n",
    "ticker_dict = 0\n",
    "\n",
    "with open('stonks.json', 'r') as f:\n",
    "    ticker_dict = json.load(f)\n",
    "    \n",
    "\n",
    "\n",
    "def find_ticker(text):\n",
    "    mentioned = []\n",
    "    for ticker, names in ticker_dict.items():\n",
    "        for name in names:\n",
    "            if name in text:\n",
    "                mentioned.append(ticker)\n",
    "                break\n",
    "    return \" \".join(mentioned)\n",
    "\n",
    "df_extracted['mentioned'] = df_extracted['text'].apply(find_ticker)\n"
   ]
  },
  {
   "cell_type": "code",
   "execution_count": 249,
   "metadata": {},
   "outputs": [
    {
     "data": {
      "text/plain": [
       "             277195\n",
       "MSFT          20203\n",
       "TSLA           3562\n",
       "MSFT TSLA      1043\n",
       "Name: mentioned, dtype: int64"
      ]
     },
     "execution_count": 249,
     "metadata": {},
     "output_type": "execute_result"
    }
   ],
   "source": [
    "df_extracted['mentioned'].value_counts()"
   ]
  },
  {
   "cell_type": "code",
   "execution_count": 250,
   "metadata": {},
   "outputs": [
    {
     "name": "stdout",
     "output_type": "stream",
     "text": [
      "<class 'pandas.core.series.Series'>\n",
      "Int64Index: 302003 entries, 10 to 1483570\n",
      "Series name: mentioned\n",
      "Non-Null Count   Dtype \n",
      "--------------   ----- \n",
      "302003 non-null  object\n",
      "dtypes: object(1)\n",
      "memory usage: 4.6+ MB\n"
     ]
    }
   ],
   "source": [
    "df_extracted['mentioned'].info()"
   ]
  },
  {
   "cell_type": "code",
   "execution_count": 251,
   "metadata": {},
   "outputs": [],
   "source": [
    "df_extracted.to_csv('just_dates_and_text.csv', index=False)"
   ]
  },
  {
   "cell_type": "code",
   "execution_count": 252,
   "metadata": {},
   "outputs": [
    {
     "data": {
      "text/html": [
       "<div>\n",
       "<style scoped>\n",
       "    .dataframe tbody tr th:only-of-type {\n",
       "        vertical-align: middle;\n",
       "    }\n",
       "\n",
       "    .dataframe tbody tr th {\n",
       "        vertical-align: top;\n",
       "    }\n",
       "\n",
       "    .dataframe thead th {\n",
       "        text-align: right;\n",
       "    }\n",
       "</style>\n",
       "<table border=\"1\" class=\"dataframe\">\n",
       "  <thead>\n",
       "    <tr style=\"text-align: right;\">\n",
       "      <th></th>\n",
       "      <th>created</th>\n",
       "      <th>text</th>\n",
       "      <th>upvote_ratio</th>\n",
       "      <th>score</th>\n",
       "      <th>mentioned</th>\n",
       "    </tr>\n",
       "  </thead>\n",
       "  <tbody>\n",
       "    <tr>\n",
       "      <th>10</th>\n",
       "      <td>2021-01-01 00:15:38</td>\n",
       "      <td>WSBVoteBot Log for Jan 01 2021 Every time a ne...</td>\n",
       "      <td>0.50</td>\n",
       "      <td>0</td>\n",
       "      <td></td>\n",
       "    </tr>\n",
       "    <tr>\n",
       "      <th>14</th>\n",
       "      <td>2021-01-01 00:18:40</td>\n",
       "      <td>Hedging your portfolio Just out of curiosity  ...</td>\n",
       "      <td>0.60</td>\n",
       "      <td>2</td>\n",
       "      <td></td>\n",
       "    </tr>\n",
       "    <tr>\n",
       "      <th>20</th>\n",
       "      <td>2021-01-01 00:24:04</td>\n",
       "      <td>BNGO Bear Case (Serious) I'm actually quite sk...</td>\n",
       "      <td>0.74</td>\n",
       "      <td>42</td>\n",
       "      <td></td>\n",
       "    </tr>\n",
       "    <tr>\n",
       "      <th>21</th>\n",
       "      <td>2021-01-01 00:24:14</td>\n",
       "      <td>Daily Executions- December 31 2020 Hi Everyone...</td>\n",
       "      <td>0.91</td>\n",
       "      <td>9</td>\n",
       "      <td></td>\n",
       "    </tr>\n",
       "    <tr>\n",
       "      <th>41</th>\n",
       "      <td>2021-01-01 00:42:36</td>\n",
       "      <td>$GAXY Youtuber London Investor will interview ...</td>\n",
       "      <td>0.97</td>\n",
       "      <td>31</td>\n",
       "      <td></td>\n",
       "    </tr>\n",
       "  </tbody>\n",
       "</table>\n",
       "</div>"
      ],
      "text/plain": [
       "               created                                               text  \\\n",
       "10 2021-01-01 00:15:38  WSBVoteBot Log for Jan 01 2021 Every time a ne...   \n",
       "14 2021-01-01 00:18:40  Hedging your portfolio Just out of curiosity  ...   \n",
       "20 2021-01-01 00:24:04  BNGO Bear Case (Serious) I'm actually quite sk...   \n",
       "21 2021-01-01 00:24:14  Daily Executions- December 31 2020 Hi Everyone...   \n",
       "41 2021-01-01 00:42:36  $GAXY Youtuber London Investor will interview ...   \n",
       "\n",
       "    upvote_ratio  score mentioned  \n",
       "10          0.50      0            \n",
       "14          0.60      2            \n",
       "20          0.74     42            \n",
       "21          0.91      9            \n",
       "41          0.97     31            "
      ]
     },
     "execution_count": 252,
     "metadata": {},
     "output_type": "execute_result"
    }
   ],
   "source": [
    "df_extracted.head()"
   ]
  },
  {
   "attachments": {},
   "cell_type": "markdown",
   "metadata": {},
   "source": [
    "### Removing punctuation"
   ]
  },
  {
   "cell_type": "code",
   "execution_count": 253,
   "metadata": {},
   "outputs": [],
   "source": [
    "df_extracted['text'] = df_extracted['text'].replace('[^\\w\\s]', '', regex=True)\n"
   ]
  },
  {
   "attachments": {},
   "cell_type": "markdown",
   "metadata": {},
   "source": [
    "### Removing capitalization"
   ]
  },
  {
   "cell_type": "code",
   "execution_count": 254,
   "metadata": {},
   "outputs": [],
   "source": [
    "df_extracted['text'] = df_extracted['text'].str.lower()\n",
    "\n"
   ]
  },
  {
   "attachments": {},
   "cell_type": "markdown",
   "metadata": {},
   "source": [
    "### Stop word removal????"
   ]
  },
  {
   "cell_type": "code",
   "execution_count": 255,
   "metadata": {},
   "outputs": [],
   "source": [
    "stop_word_list = set(stopwords.words('english'))\n",
    "\n",
    "\n",
    "df_extracted['text'] = df_extracted['text'].map(lambda x : \" \".join(w for w in x.split() if w not in stop_word_list))"
   ]
  },
  {
   "attachments": {},
   "cell_type": "markdown",
   "metadata": {},
   "source": [
    "### Stemming?"
   ]
  },
  {
   "attachments": {},
   "cell_type": "markdown",
   "metadata": {},
   "source": [
    "The following cell takes a while to run (under 5 min)"
   ]
  },
  {
   "cell_type": "code",
   "execution_count": 256,
   "metadata": {},
   "outputs": [
    {
     "name": "stderr",
     "output_type": "stream",
     "text": [
      "[nltk_data] Downloading package wordnet to\n",
      "[nltk_data]     C:\\Users\\paganinik\\AppData\\Roaming\\nltk_data...\n",
      "[nltk_data]   Package wordnet is already up-to-date!\n",
      "[nltk_data] Downloading package punkt to\n",
      "[nltk_data]     C:\\Users\\paganinik\\AppData\\Roaming\\nltk_data...\n",
      "[nltk_data]   Package punkt is already up-to-date!\n"
     ]
    }
   ],
   "source": [
    "from nltk.stem import WordNetLemmatizer\n",
    "from nltk import word_tokenize\n",
    "\n",
    "\n",
    "\n",
    "\n",
    "nltk.download('wordnet')\n",
    "nltk.download('punkt')\n",
    "lemmatizer = WordNetLemmatizer()\n",
    "df_extracted['text'] = df_extracted['text'].apply(lambda x: \" \".join(lemmatizer.lemmatize(word) for word in word_tokenize(x)))"
   ]
  },
  {
   "cell_type": "code",
   "execution_count": 257,
   "metadata": {},
   "outputs": [
    {
     "data": {
      "text/plain": [
       "10         wsbvotebot log jan 01 2021 every time new subm...\n",
       "14         hedging portfolio curiosity anyone make move h...\n",
       "20         bngo bear case serious im actually quite skept...\n",
       "21         daily execution december 31 2020 hi everyone i...\n",
       "41         gaxy youtuber london investor interview coo ga...\n",
       "                                 ...                        \n",
       "1483539    people open multiple position pair whats benef...\n",
       "1483546    five penny stock put watchlist 2022 llnw limel...\n",
       "1483548    suggestion employer pay hi young man working s...\n",
       "1483566    best keeper credit card best keeper card know ...\n",
       "1483570    im teen want start investing index stock sp500...\n",
       "Name: text, Length: 302003, dtype: object"
      ]
     },
     "execution_count": 257,
     "metadata": {},
     "output_type": "execute_result"
    }
   ],
   "source": [
    "df_extracted['text']"
   ]
  },
  {
   "attachments": {},
   "cell_type": "markdown",
   "metadata": {},
   "source": [
    "How to do the word embedding thing\n",
    "\n",
    "\n",
    "https://www.youtube.com/watch?v=ZogxNcyqVqE&ab_channel=TheAIUniversity\n",
    "\n",
    "\n",
    "https://www.guru99.com/word-embedding-word2vec.html"
   ]
  },
  {
   "attachments": {},
   "cell_type": "markdown",
   "metadata": {},
   "source": [
    "### Word Embeddings - Word2Vec\n",
    "\n",
    "\n"
   ]
  },
  {
   "attachments": {},
   "cell_type": "markdown",
   "metadata": {},
   "source": [
    "Training the word2vec model"
   ]
  },
  {
   "cell_type": "code",
   "execution_count": null,
   "metadata": {},
   "outputs": [],
   "source": []
  },
  {
   "cell_type": "raw",
   "metadata": {},
   "source": [
    "### Setup of problem\n",
    "\n",
    "Regression problem   \n",
    "\n",
    "\n",
    "Possible models that can be built:      \n",
    "- Model will take in reddit posts from the past 5 hours to predict the price in 1 hour. (What I am working towards for now)     \n",
    "- From here we can take this model and run predictions on 100 companies at a time and choose the best.   \n",
    "- Simpler version of the before problem is to predict whether to buy or sell. \n",
    "- Model takes posts from previous day and predicts the closing price the nexrt day.     \n",
    "\n",
    "\n",
    "Input to model: 5 hours of reddit posts + one ticker.      \n",
    "[Ticker, start price ,post1, post2, ..., post n]\n",
    "\n",
    "Output: delta change in one hour (end price)   \n",
    "\n",
    "\n",
    "\n",
    "\n",
    "\n"
   ]
  },
  {
   "attachments": {},
   "cell_type": "markdown",
   "metadata": {},
   "source": [
    "### Figuring out which companies we can predict for\n",
    "\n",
    "Since, it would be unfair to ask a model to predict the price of a stock that is not mentioned in the data that is given, we need to do something about it.   \n",
    "\n",
    "If we are asking the model to predict the price for Tesla in one hour based off the reddit comments from the previous 5 hours, Tesla would need to be mentioned in the previous 5 hours.     \n",
    "\n",
    "I think a threshold of maybe like at least 5 posts in the last 5 hours to be included as a training example.     \n",
    "\n",
    "To decrease the likelihood of the the target company not being mentioned we can increase the time window "
   ]
  },
  {
   "cell_type": "markdown",
   "metadata": {},
   "source": []
  },
  {
   "cell_type": "code",
   "execution_count": null,
   "metadata": {},
   "outputs": [],
   "source": []
  }
 ],
 "metadata": {
  "kernelspec": {
   "display_name": "Python 3 (ipykernel)",
   "language": "python",
   "name": "python3"
  },
  "language_info": {
   "codemirror_mode": {
    "name": "ipython",
    "version": 3
   },
   "file_extension": ".py",
   "mimetype": "text/x-python",
   "name": "python",
   "nbconvert_exporter": "python",
   "pygments_lexer": "ipython3",
   "version": "3.10.7"
  },
  "vscode": {
   "interpreter": {
    "hash": "7a267a99bbf72d1e7ab9dc70df7cf6b2ed807ed4003ebf11dfd7853a92fab2bb"
   }
  }
 },
 "nbformat": 4,
 "nbformat_minor": 2
}
