{
 "cells": [
  {
   "attachments": {},
   "cell_type": "markdown",
   "metadata": {},
   "source": [
    "# Cleaning\n",
    "\n",
    "\n",
    "\n",
    "<img src=\"https://media.tenor.com/oNn3Xf14XrkAAAAC/consuela-family-guy.gif\">"
   ]
  },
  {
   "attachments": {},
   "cell_type": "markdown",
   "metadata": {},
   "source": [
    "Columns are the same for each dataset.     \n",
    "So we can write one script to clean them all. (Test on one for loop on others)"
   ]
  },
  {
   "attachments": {},
   "cell_type": "markdown",
   "metadata": {},
   "source": [
    "### Imports and setup"
   ]
  },
  {
   "cell_type": "code",
   "execution_count": 6,
   "metadata": {},
   "outputs": [],
   "source": [
    "import pandas as pd\n",
    "import numpy as np \n",
    "import matplotlib.pyplot as plt\n",
    "import os\n",
    "import seaborn as sns\n",
    "import sys\n",
    "import demoji\n",
    "sys.path.append('../')\n",
    "\n",
    "\n",
    "\n",
    "pd.set_option('display.max_rows', 250)\n",
    "pd.set_option('display.max_columns', 250)\n",
    "\n",
    "\n",
    "\n",
    "data_path = os.path.join('Data','finance','submissions_reddit.csv')\n"
   ]
  },
  {
   "attachments": {},
   "cell_type": "markdown",
   "metadata": {},
   "source": [
    "### Before data can be read in to dataframe, I think it is necessary to do some preprocessing to the csv file itself"
   ]
  },
  {
   "cell_type": "code",
   "execution_count": 7,
   "metadata": {},
   "outputs": [],
   "source": [
    "df = pd.read_csv(data_path)"
   ]
  },
  {
   "cell_type": "code",
   "execution_count": 11,
   "metadata": {},
   "outputs": [
    {
     "data": {
      "text/html": [
       "<div>\n",
       "<style scoped>\n",
       "    .dataframe tbody tr th:only-of-type {\n",
       "        vertical-align: middle;\n",
       "    }\n",
       "\n",
       "    .dataframe tbody tr th {\n",
       "        vertical-align: top;\n",
       "    }\n",
       "\n",
       "    .dataframe thead th {\n",
       "        text-align: right;\n",
       "    }\n",
       "</style>\n",
       "<table border=\"1\" class=\"dataframe\">\n",
       "  <thead>\n",
       "    <tr style=\"text-align: right;\">\n",
       "      <th></th>\n",
       "      <th>id</th>\n",
       "      <th>author</th>\n",
       "      <th>created</th>\n",
       "      <th>retrieved</th>\n",
       "      <th>edited</th>\n",
       "      <th>pinned</th>\n",
       "      <th>archived</th>\n",
       "      <th>locked</th>\n",
       "      <th>removed</th>\n",
       "      <th>deleted</th>\n",
       "      <th>is_self</th>\n",
       "      <th>is_video</th>\n",
       "      <th>is_original_content</th>\n",
       "      <th>title</th>\n",
       "      <th>link_flair_text</th>\n",
       "      <th>upvote_ratio</th>\n",
       "      <th>score</th>\n",
       "      <th>gilded</th>\n",
       "      <th>total_awards_received</th>\n",
       "      <th>num_comments</th>\n",
       "      <th>num_crossposts</th>\n",
       "      <th>selftext</th>\n",
       "      <th>thumbnail</th>\n",
       "      <th>shortlink</th>\n",
       "    </tr>\n",
       "  </thead>\n",
       "  <tbody>\n",
       "    <tr>\n",
       "      <th>0</th>\n",
       "      <td>ko3ecd</td>\n",
       "      <td>bighlovd</td>\n",
       "      <td>2021-01-01 02:33:23</td>\n",
       "      <td>2021-02-04 06:28:30</td>\n",
       "      <td>1970-01-01 00:00:00</td>\n",
       "      <td>0</td>\n",
       "      <td>0</td>\n",
       "      <td>0</td>\n",
       "      <td>1</td>\n",
       "      <td>0</td>\n",
       "      <td>0</td>\n",
       "      <td>0</td>\n",
       "      <td>0</td>\n",
       "      <td>click this link to make free sign up!!!</td>\n",
       "      <td>None</td>\n",
       "      <td>0.5</td>\n",
       "      <td>0</td>\n",
       "      <td>0</td>\n",
       "      <td>0</td>\n",
       "      <td>0</td>\n",
       "      <td>0</td>\n",
       "      <td>NaN</td>\n",
       "      <td>default</td>\n",
       "      <td>https://redd.it/ko3ecd</td>\n",
       "    </tr>\n",
       "  </tbody>\n",
       "</table>\n",
       "</div>"
      ],
      "text/plain": [
       "       id    author              created            retrieved  \\\n",
       "0  ko3ecd  bighlovd  2021-01-01 02:33:23  2021-02-04 06:28:30   \n",
       "\n",
       "                edited  pinned  archived  locked  removed  deleted  is_self  \\\n",
       "0  1970-01-01 00:00:00       0         0       0        1        0        0   \n",
       "\n",
       "   is_video  is_original_content                                    title  \\\n",
       "0         0                    0  click this link to make free sign up!!!   \n",
       "\n",
       "  link_flair_text  upvote_ratio  score  gilded  total_awards_received  \\\n",
       "0            None           0.5      0       0                      0   \n",
       "\n",
       "   num_comments  num_crossposts selftext thumbnail               shortlink  \n",
       "0             0               0      NaN   default  https://redd.it/ko3ecd  "
      ]
     },
     "execution_count": 11,
     "metadata": {},
     "output_type": "execute_result"
    }
   ],
   "source": [
    "df.head(1)"
   ]
  },
  {
   "attachments": {},
   "cell_type": "markdown",
   "metadata": {},
   "source": [
    "Columns:    \n",
    "| Index | Feature               | Type     | Description                                                    |\n",
    "|-------|-----------------------|----------|----------------------------------------------------------------|\n",
    "| 0     | id                    | string   | The id of the submission                                       |\n",
    "| 1     | author                | string   | The redditors username                                         |\n",
    "| 2     | created               | datetime | Time the submission was created                                |\n",
    "| 3     | retrieved             | datetime | Time the submission was retrieved                              |\n",
    "| 4     | edited                | datetime | Time the submission was modified                               |\n",
    "| 5     | pinned                | boolean  | Whether or not the submission is pinned                        |\n",
    "| 6     | archived              | boolean  | Whether or not the submission is archived                      |\n",
    "| 7     | locked                | boolean  | Whether or not the submission is locked                        |\n",
    "| 8     | removed               | boolean  | Whether or not the submission is removed                       |\n",
    "| 9     | deleted               | boolean  | Whether or not the submission is user deleted                  |\n",
    "| 10    | is_self               | boolean  | Whether or not the submission is a text                        |\n",
    "| 11    | is_video              | boolean  | Whether or not the submission is a video                       |\n",
    "| 12    | is_original_content   | boolean  | Whether or not the submission has been set as original content |\n",
    "| 13    | title                 | string   | Title of the submission                                        |\n",
    "| 14    | link_flair_text       | string   | Submission link flairs text content                            |\n",
    "| 15    | upvote_ratio          | double   | Percentage of upvotes from all votes on submission             |\n",
    "| 16    | score                 | integer  | number of upvotes                                              |\n",
    "| 17    | gilded                | integer  | number of gilded awards                                        |\n",
    "| 18    | total_awards_received | integer  | number of awards on the submission                             |\n",
    "| 19    | num_comments          | integer  | number of comments on the submission                           |\n",
    "| 20    | num_crossposts        | integer  | number of crossposts on the submission                         |\n",
    "| 21    | selftext              | string   | submission selftext on text posts                              |\n",
    "| 22    | thumbnail             | string   | submission thumbnail on image posts                            |\n",
    "| 23    | shortlink             | string   | submission short url                                           |    "
   ]
  },
  {
   "attachments": {},
   "cell_type": "markdown",
   "metadata": {},
   "source": [
    "### Cleaning functions for Title\n",
    "\n",
    "\n",
    "Things that need to be cleaned from \"Title\":\n",
    "- New lines\n",
    "- Emojis (convert or remove?)\n",
    "- Spam messages (possibly only take posts that have a certain number of upvotes)\n",
    "- links (need to remove entire record if link is only thing)\n",
    "- videos (same as link)\n",
    "- A lot of records do not talk about a specific stock. (Remove them?)"
   ]
  },
  {
   "cell_type": "code",
   "execution_count": 3,
   "metadata": {},
   "outputs": [],
   "source": [
    "def remove_spacing(x):\n",
    "    x.replace('\\n', '')\n",
    "    \n",
    "\n",
    "def remove_videos(x):\n",
    "    pass\n",
    "\n",
    "def remove_irrelevant_posts(x):\n",
    "    pass\n",
    "\n",
    "def convert_emojis(x):\n",
    "    demoji.replace_with_desc(x, sep='\"')\n",
    "    \n"
   ]
  },
  {
   "cell_type": "code",
   "execution_count": 4,
   "metadata": {},
   "outputs": [
    {
     "data": {
      "text/plain": [
       "'Highest percentage increase in share amount of different ARK ETFs - 5 Feb 2021'"
      ]
     },
     "execution_count": 4,
     "metadata": {},
     "output_type": "execute_result"
    }
   ],
   "source": [
    "df['title'][694]"
   ]
  },
  {
   "attachments": {},
   "cell_type": "markdown",
   "metadata": {},
   "source": [
    "Columns that can be removed for sure:\n",
    "- id\n",
    "- shortlink  \n",
    "- thumbnail\n",
    "\n",
    "\n",
    "Columns that could maybe possibly be removed:\n",
    "- retrieved\n",
    "- edited \n",
    "- pinned  \n",
    "- archived  \n",
    "- locked  \n",
    "- removed (if removed is true should we discard the record?)\n",
    "- deleted (same as removed)\n",
    "- is_self   \n",
    "- is_video (use as flag to remove records?)\n",
    "- gilded   \n",
    "..."
   ]
  },
  {
   "cell_type": "code",
   "execution_count": null,
   "metadata": {},
   "outputs": [],
   "source": []
  }
 ],
 "metadata": {
  "kernelspec": {
   "display_name": "venv",
   "language": "python",
   "name": "python3"
  },
  "language_info": {
   "codemirror_mode": {
    "name": "ipython",
    "version": 3
   },
   "file_extension": ".py",
   "mimetype": "text/x-python",
   "name": "python",
   "nbconvert_exporter": "python",
   "pygments_lexer": "ipython3",
   "version": "3.10.7"
  },
  "orig_nbformat": 4,
  "vscode": {
   "interpreter": {
    "hash": "7a267a99bbf72d1e7ab9dc70df7cf6b2ed807ed4003ebf11dfd7853a92fab2bb"
   }
  }
 },
 "nbformat": 4,
 "nbformat_minor": 2
}
