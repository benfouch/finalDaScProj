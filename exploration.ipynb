{
 "cells": [
  {
   "attachments": {},
   "cell_type": "markdown",
   "metadata": {},
   "source": [
    "# Exploring notebook"
   ]
  },
  {
   "cell_type": "code",
   "execution_count": 1,
   "metadata": {},
   "outputs": [],
   "source": [
    "import pandas as pd\n",
    "import numpy as np \n",
    "import matplotlib.pyplot as plt\n",
    "import os\n",
    "import seaborn as sns\n",
    "import sys\n",
    "\n",
    "\n",
    "\n",
    "# makes plots nice\n",
    "def make_pretty(ax, title='', x_label='', y_label='', img=False):\n",
    "    ax.set_title(title, fontsize=20)\n",
    "    ax.set_xlabel(x_label, fontsize=16)\n",
    "    ax.set_ylabel(y_label, fontsize=16)\n",
    "    ax.legend(loc='best', fontsize=16)\n",
    "    if img:\n",
    "        ax.axis('off')\n",
    "    return ax\n",
    "\n",
    "pd.set_option('display.max_rows', 250)\n",
    "pd.set_option('display.max_columns', 250)\n",
    "\n",
    "\n",
    "data_path = os.path.join('nice_combined_data.csv')"
   ]
  },
  {
   "cell_type": "code",
   "execution_count": 2,
   "metadata": {},
   "outputs": [
    {
     "data": {
      "text/plain": [
       "(6574, 10)"
      ]
     },
     "execution_count": 2,
     "metadata": {},
     "output_type": "execute_result"
    }
   ],
   "source": [
    "df = pd.read_csv(data_path)\n",
    "df.shape"
   ]
  },
  {
   "cell_type": "code",
   "execution_count": 3,
   "metadata": {},
   "outputs": [
    {
     "data": {
      "text/html": [
       "<div>\n",
       "<style scoped>\n",
       "    .dataframe tbody tr th:only-of-type {\n",
       "        vertical-align: middle;\n",
       "    }\n",
       "\n",
       "    .dataframe tbody tr th {\n",
       "        vertical-align: top;\n",
       "    }\n",
       "\n",
       "    .dataframe thead th {\n",
       "        text-align: right;\n",
       "    }\n",
       "</style>\n",
       "<table border=\"1\" class=\"dataframe\">\n",
       "  <thead>\n",
       "    <tr style=\"text-align: right;\">\n",
       "      <th></th>\n",
       "      <th>Date</th>\n",
       "      <th>mentioned</th>\n",
       "      <th>text</th>\n",
       "      <th>mentioned_count</th>\n",
       "      <th>upvote_ratio</th>\n",
       "      <th>score</th>\n",
       "      <th>gilded</th>\n",
       "      <th>total_awards_received</th>\n",
       "      <th>num_comments</th>\n",
       "      <th>target</th>\n",
       "    </tr>\n",
       "  </thead>\n",
       "  <tbody>\n",
       "    <tr>\n",
       "      <th>0</th>\n",
       "      <td>2021-01-04</td>\n",
       "      <td>AAPL</td>\n",
       "      <td>weekend iv report ticker low iv cheap premium ...</td>\n",
       "      <td>18</td>\n",
       "      <td>0.771111</td>\n",
       "      <td>163.500000</td>\n",
       "      <td>0.333333</td>\n",
       "      <td>4.166667</td>\n",
       "      <td>79.277778</td>\n",
       "      <td>-0.030782</td>\n",
       "    </tr>\n",
       "    <tr>\n",
       "      <th>1</th>\n",
       "      <td>2021-01-04</td>\n",
       "      <td>AMC</td>\n",
       "      <td>crazy buy amc right thinking going long amc lo...</td>\n",
       "      <td>1</td>\n",
       "      <td>0.440000</td>\n",
       "      <td>0.000000</td>\n",
       "      <td>0.000000</td>\n",
       "      <td>0.000000</td>\n",
       "      <td>18.000000</td>\n",
       "      <td>-0.086364</td>\n",
       "    </tr>\n",
       "    <tr>\n",
       "      <th>2</th>\n",
       "      <td>2021-01-04</td>\n",
       "      <td>BA</td>\n",
       "      <td>weekend iv report ticker low iv cheap premium ...</td>\n",
       "      <td>7</td>\n",
       "      <td>0.765714</td>\n",
       "      <td>97.428571</td>\n",
       "      <td>0.000000</td>\n",
       "      <td>0.428571</td>\n",
       "      <td>37.142857</td>\n",
       "      <td>-0.034667</td>\n",
       "    </tr>\n",
       "    <tr>\n",
       "      <th>3</th>\n",
       "      <td>2021-01-04</td>\n",
       "      <td>BABA</td>\n",
       "      <td>weekend iv report ticker low iv cheap premium ...</td>\n",
       "      <td>9</td>\n",
       "      <td>0.737778</td>\n",
       "      <td>58.111111</td>\n",
       "      <td>0.000000</td>\n",
       "      <td>0.222222</td>\n",
       "      <td>31.777778</td>\n",
       "      <td>0.005960</td>\n",
       "    </tr>\n",
       "    <tr>\n",
       "      <th>4</th>\n",
       "      <td>2021-01-04</td>\n",
       "      <td>BB</td>\n",
       "      <td>guess company due diligence without revealing ...</td>\n",
       "      <td>1</td>\n",
       "      <td>0.960000</td>\n",
       "      <td>417.000000</td>\n",
       "      <td>1.000000</td>\n",
       "      <td>2.000000</td>\n",
       "      <td>51.000000</td>\n",
       "      <td>-0.017910</td>\n",
       "    </tr>\n",
       "  </tbody>\n",
       "</table>\n",
       "</div>"
      ],
      "text/plain": [
       "        Date mentioned                                               text  \\\n",
       "0 2021-01-04      AAPL  weekend iv report ticker low iv cheap premium ...   \n",
       "1 2021-01-04       AMC  crazy buy amc right thinking going long amc lo...   \n",
       "2 2021-01-04        BA  weekend iv report ticker low iv cheap premium ...   \n",
       "3 2021-01-04      BABA  weekend iv report ticker low iv cheap premium ...   \n",
       "4 2021-01-04        BB  guess company due diligence without revealing ...   \n",
       "\n",
       "   mentioned_count  upvote_ratio       score    gilded  total_awards_received  \\\n",
       "0               18      0.771111  163.500000  0.333333               4.166667   \n",
       "1                1      0.440000    0.000000  0.000000               0.000000   \n",
       "2                7      0.765714   97.428571  0.000000               0.428571   \n",
       "3                9      0.737778   58.111111  0.000000               0.222222   \n",
       "4                1      0.960000  417.000000  1.000000               2.000000   \n",
       "\n",
       "   num_comments    target  \n",
       "0     79.277778 -0.030782  \n",
       "1     18.000000 -0.086364  \n",
       "2     37.142857 -0.034667  \n",
       "3     31.777778  0.005960  \n",
       "4     51.000000 -0.017910  "
      ]
     },
     "execution_count": 3,
     "metadata": {},
     "output_type": "execute_result"
    }
   ],
   "source": [
    "df['Date'] = pd.to_datetime(df['Date'])\n",
    "df.head()"
   ]
  },
  {
   "cell_type": "code",
   "execution_count": 4,
   "metadata": {},
   "outputs": [],
   "source": [
    "df['target_bin'] = df['target'].apply(lambda x : 1 if x > 0 else 0)"
   ]
  },
  {
   "cell_type": "code",
   "execution_count": null,
   "metadata": {},
   "outputs": [],
   "source": []
  },
  {
   "cell_type": "code",
   "execution_count": 10,
   "metadata": {},
   "outputs": [
    {
     "data": {
      "text/html": [
       "<div>\n",
       "<style scoped>\n",
       "    .dataframe tbody tr th:only-of-type {\n",
       "        vertical-align: middle;\n",
       "    }\n",
       "\n",
       "    .dataframe tbody tr th {\n",
       "        vertical-align: top;\n",
       "    }\n",
       "\n",
       "    .dataframe thead th {\n",
       "        text-align: right;\n",
       "    }\n",
       "</style>\n",
       "<table border=\"1\" class=\"dataframe\">\n",
       "  <thead>\n",
       "    <tr style=\"text-align: right;\">\n",
       "      <th></th>\n",
       "      <th>Date</th>\n",
       "      <th>mentioned</th>\n",
       "      <th>text</th>\n",
       "      <th>mentioned_count</th>\n",
       "      <th>upvote_ratio</th>\n",
       "      <th>score</th>\n",
       "      <th>gilded</th>\n",
       "      <th>total_awards_received</th>\n",
       "      <th>num_comments</th>\n",
       "      <th>target</th>\n",
       "      <th>target_bin</th>\n",
       "    </tr>\n",
       "  </thead>\n",
       "  <tbody>\n",
       "    <tr>\n",
       "      <th>0</th>\n",
       "      <td>2021-01-04</td>\n",
       "      <td>AAPL</td>\n",
       "      <td>weekend iv report ticker low iv cheap premium ...</td>\n",
       "      <td>18</td>\n",
       "      <td>0.771111</td>\n",
       "      <td>163.500000</td>\n",
       "      <td>0.333333</td>\n",
       "      <td>4.166667</td>\n",
       "      <td>79.277778</td>\n",
       "      <td>-0.030782</td>\n",
       "      <td>0</td>\n",
       "    </tr>\n",
       "    <tr>\n",
       "      <th>1</th>\n",
       "      <td>2021-01-04</td>\n",
       "      <td>AMC</td>\n",
       "      <td>crazy buy amc right thinking going long amc lo...</td>\n",
       "      <td>1</td>\n",
       "      <td>0.440000</td>\n",
       "      <td>0.000000</td>\n",
       "      <td>0.000000</td>\n",
       "      <td>0.000000</td>\n",
       "      <td>18.000000</td>\n",
       "      <td>-0.086364</td>\n",
       "      <td>0</td>\n",
       "    </tr>\n",
       "    <tr>\n",
       "      <th>2</th>\n",
       "      <td>2021-01-04</td>\n",
       "      <td>BA</td>\n",
       "      <td>weekend iv report ticker low iv cheap premium ...</td>\n",
       "      <td>7</td>\n",
       "      <td>0.765714</td>\n",
       "      <td>97.428571</td>\n",
       "      <td>0.000000</td>\n",
       "      <td>0.428571</td>\n",
       "      <td>37.142857</td>\n",
       "      <td>-0.034667</td>\n",
       "      <td>0</td>\n",
       "    </tr>\n",
       "    <tr>\n",
       "      <th>3</th>\n",
       "      <td>2021-01-04</td>\n",
       "      <td>BABA</td>\n",
       "      <td>weekend iv report ticker low iv cheap premium ...</td>\n",
       "      <td>9</td>\n",
       "      <td>0.737778</td>\n",
       "      <td>58.111111</td>\n",
       "      <td>0.000000</td>\n",
       "      <td>0.222222</td>\n",
       "      <td>31.777778</td>\n",
       "      <td>0.005960</td>\n",
       "      <td>1</td>\n",
       "    </tr>\n",
       "    <tr>\n",
       "      <th>4</th>\n",
       "      <td>2021-01-04</td>\n",
       "      <td>BB</td>\n",
       "      <td>guess company due diligence without revealing ...</td>\n",
       "      <td>1</td>\n",
       "      <td>0.960000</td>\n",
       "      <td>417.000000</td>\n",
       "      <td>1.000000</td>\n",
       "      <td>2.000000</td>\n",
       "      <td>51.000000</td>\n",
       "      <td>-0.017910</td>\n",
       "      <td>0</td>\n",
       "    </tr>\n",
       "  </tbody>\n",
       "</table>\n",
       "</div>"
      ],
      "text/plain": [
       "        Date mentioned                                               text  \\\n",
       "0 2021-01-04      AAPL  weekend iv report ticker low iv cheap premium ...   \n",
       "1 2021-01-04       AMC  crazy buy amc right thinking going long amc lo...   \n",
       "2 2021-01-04        BA  weekend iv report ticker low iv cheap premium ...   \n",
       "3 2021-01-04      BABA  weekend iv report ticker low iv cheap premium ...   \n",
       "4 2021-01-04        BB  guess company due diligence without revealing ...   \n",
       "\n",
       "   mentioned_count  upvote_ratio       score    gilded  total_awards_received  \\\n",
       "0               18      0.771111  163.500000  0.333333               4.166667   \n",
       "1                1      0.440000    0.000000  0.000000               0.000000   \n",
       "2                7      0.765714   97.428571  0.000000               0.428571   \n",
       "3                9      0.737778   58.111111  0.000000               0.222222   \n",
       "4                1      0.960000  417.000000  1.000000               2.000000   \n",
       "\n",
       "   num_comments    target  target_bin  \n",
       "0     79.277778 -0.030782           0  \n",
       "1     18.000000 -0.086364           0  \n",
       "2     37.142857 -0.034667           0  \n",
       "3     31.777778  0.005960           1  \n",
       "4     51.000000 -0.017910           0  "
      ]
     },
     "execution_count": 10,
     "metadata": {},
     "output_type": "execute_result"
    }
   ],
   "source": [
    "df.head()"
   ]
  },
  {
   "cell_type": "code",
   "execution_count": 11,
   "metadata": {},
   "outputs": [
    {
     "name": "stdout",
     "output_type": "stream",
     "text": [
      "<class 'pandas.core.frame.DataFrame'>\n",
      "RangeIndex: 6574 entries, 0 to 6573\n",
      "Data columns (total 11 columns):\n",
      " #   Column                 Non-Null Count  Dtype         \n",
      "---  ------                 --------------  -----         \n",
      " 0   Date                   6574 non-null   datetime64[ns]\n",
      " 1   mentioned              6574 non-null   object        \n",
      " 2   text                   6574 non-null   object        \n",
      " 3   mentioned_count        6574 non-null   int64         \n",
      " 4   upvote_ratio           6574 non-null   float64       \n",
      " 5   score                  6574 non-null   float64       \n",
      " 6   gilded                 6574 non-null   float64       \n",
      " 7   total_awards_received  6574 non-null   float64       \n",
      " 8   num_comments           6574 non-null   float64       \n",
      " 9   target                 6574 non-null   float64       \n",
      " 10  target_bin             6574 non-null   int64         \n",
      "dtypes: datetime64[ns](1), float64(6), int64(2), object(2)\n",
      "memory usage: 565.1+ KB\n"
     ]
    }
   ],
   "source": [
    "df.info()"
   ]
  },
  {
   "cell_type": "code",
   "execution_count": 5,
   "metadata": {},
   "outputs": [
    {
     "data": {
      "text/plain": [
       "(4380, 11)"
      ]
     },
     "execution_count": 5,
     "metadata": {},
     "output_type": "execute_result"
    }
   ],
   "source": [
    "df = df[df['mentioned_count'] >= 3]\n",
    "df.shape"
   ]
  },
  {
   "cell_type": "code",
   "execution_count": 13,
   "metadata": {},
   "outputs": [
    {
     "name": "stdout",
     "output_type": "stream",
     "text": [
      "(3982, 11)\n",
      "Max:  3523\n",
      "Min:  3\n"
     ]
    },
    {
     "data": {
      "text/plain": [
       "[Text(1, 0, 'Buy'), Text(2, 0, 'Sell')]"
      ]
     },
     "execution_count": 13,
     "metadata": {},
     "output_type": "execute_result"
    },
    {
     "data": {
      "image/png": "[encoded data removed]",
      "text/plain": [
       "<Figure size 432x288 with 1 Axes>"
      ]
     },
     "metadata": {
      "needs_background": "light"
     },
     "output_type": "display_data"
    }
   ],
   "source": [
    "fig, ax = plt.subplots()\n",
    "mc = df[df['mentioned_count'] <= 25]\n",
    "print(mc.shape)\n",
    "print('Max: ', df['mentioned_count'].max())\n",
    "print('Min: ', df['mentioned_count'].min())\n",
    "ax.violinplot(mc['mentioned_count'][mc['target_bin'] == 1], showmedians=True, positions=[1], widths=0.3,bw_method=0.5)\n",
    "ax.violinplot(mc['mentioned_count'][mc['target_bin'] == 0], showmedians=True, positions=[2], widths=0.3,bw_method=0.5)\n",
    "ax.set_title('Mentioned Count')\n",
    "ax.set_xticks([1, 2])\n",
    "ax.set_xticklabels(['Buy', 'Sell'])"
   ]
  },
  {
   "attachments": {},
   "cell_type": "markdown",
   "metadata": {},
   "source": [
    "Excluding outliers here so the plots can be usable (excluding about 400 records)\n"
   ]
  },
  {
   "cell_type": "code",
   "execution_count": 14,
   "metadata": {},
   "outputs": [
    {
     "name": "stdout",
     "output_type": "stream",
     "text": [
      "Max:  1.0\n",
      "Min:  0.3999999999999999\n"
     ]
    },
    {
     "data": {
      "text/plain": [
       "[Text(1, 0, 'Buy'), Text(2, 0, 'Sell')]"
      ]
     },
     "execution_count": 14,
     "metadata": {},
     "output_type": "execute_result"
    },
    {
     "data": {
      "image/png": "[encoded data removed]",
      "text/plain": [
       "<Figure size 432x288 with 1 Axes>"
      ]
     },
     "metadata": {
      "needs_background": "light"
     },
     "output_type": "display_data"
    }
   ],
   "source": [
    "fig, ax = plt.subplots()\n",
    "print('Max: ', df['upvote_ratio'].max())\n",
    "print('Min: ', df['upvote_ratio'].min())\n",
    "ax.violinplot(df['upvote_ratio'][df['target_bin'] == 1], showmedians=True, positions=[1], widths=0.3,bw_method=0.5)\n",
    "ax.violinplot(df['upvote_ratio'][df['target_bin'] == 0], showmedians=True, positions=[2], widths=0.3,bw_method=0.5)\n",
    "ax.set_title('Upvote Ratio')\n",
    "ax.set_xticks([1, 2])\n",
    "ax.set_xticklabels(['Buy', 'Sell'])"
   ]
  },
  {
   "cell_type": "code",
   "execution_count": 15,
   "metadata": {},
   "outputs": [
    {
     "name": "stdout",
     "output_type": "stream",
     "text": [
      "(3976, 11)\n",
      "Max:  16102.2\n",
      "Min:  0.3333333333333333\n"
     ]
    },
    {
     "data": {
      "text/plain": [
       "[Text(1, 0, 'Buy'), Text(2, 0, 'Sell')]"
      ]
     },
     "execution_count": 15,
     "metadata": {},
     "output_type": "execute_result"
    },
    {
     "data": {
      "image/png": "[encoded data removed]",
      "text/plain": [
       "<Figure size 432x288 with 1 Axes>"
      ]
     },
     "metadata": {
      "needs_background": "light"
     },
     "output_type": "display_data"
    }
   ],
   "source": [
    "fig, ax = plt.subplots()\n",
    "mc = df[df['score'] <= 300]\n",
    "print(mc.shape)\n",
    "print('Max: ', df['score'].max())\n",
    "print('Min: ', df['score'].min())\n",
    "ax.violinplot(mc['score'][mc['target_bin'] == 1], showmedians=True, positions=[1], widths=0.3,bw_method=0.5)\n",
    "ax.violinplot(mc['score'][mc['target_bin'] == 0], showmedians=True, positions=[2], widths=0.3,bw_method=0.5)\n",
    "ax.set_title('Score')\n",
    "ax.set_xticks([1, 2])\n",
    "ax.set_xticklabels(['Buy', 'Sell'])"
   ]
  },
  {
   "attachments": {},
   "cell_type": "markdown",
   "metadata": {},
   "source": [
    "ABout 400 records excluded again"
   ]
  },
  {
   "attachments": {},
   "cell_type": "markdown",
   "metadata": {},
   "source": [
    "Gilded less than 1"
   ]
  },
  {
   "cell_type": "code",
   "execution_count": 16,
   "metadata": {},
   "outputs": [
    {
     "name": "stdout",
     "output_type": "stream",
     "text": [
      "(4359, 11)\n",
      "Max:  13.5\n",
      "Min:  0.0\n"
     ]
    },
    {
     "data": {
      "text/plain": [
       "[Text(1, 0, 'Buy'), Text(2, 0, 'Sell')]"
      ]
     },
     "execution_count": 16,
     "metadata": {},
     "output_type": "execute_result"
    },
    {
     "data": {
      "image/png": "[encoded data removed]",
      "text/plain": [
       "<Figure size 432x288 with 1 Axes>"
      ]
     },
     "metadata": {
      "needs_background": "light"
     },
     "output_type": "display_data"
    }
   ],
   "source": [
    "fig, ax = plt.subplots()\n",
    "mc = df[df['gilded'] <= 1]\n",
    "print(mc.shape)\n",
    "print('Max: ', df['gilded'].max())\n",
    "print('Min: ', df['gilded'].min())\n",
    "ax.violinplot(mc['gilded'][mc['target_bin'] == 1], showmedians=True, positions=[1], widths=0.3,bw_method=0.5)\n",
    "ax.violinplot(mc['gilded'][mc['target_bin'] == 0], showmedians=True, positions=[2], widths=0.3,bw_method=0.5)\n",
    "ax.set_title('Gilded')\n",
    "ax.set_xticks([1, 2])\n",
    "ax.set_xticklabels(['Buy', 'Sell'])"
   ]
  },
  {
   "attachments": {},
   "cell_type": "markdown",
   "metadata": {},
   "source": [
    "Gilded other side (greater than 1 gilded)"
   ]
  },
  {
   "cell_type": "code",
   "execution_count": 17,
   "metadata": {},
   "outputs": [
    {
     "name": "stdout",
     "output_type": "stream",
     "text": [
      "(30, 11)\n",
      "Max:  13.5\n",
      "Min:  0.0\n"
     ]
    },
    {
     "data": {
      "text/plain": [
       "[Text(1, 0, 'Buy'), Text(2, 0, 'Sell')]"
      ]
     },
     "execution_count": 17,
     "metadata": {},
     "output_type": "execute_result"
    },
    {
     "data": {
      "image/png": "[encoded data removed]",
      "text/plain": [
       "<Figure size 432x288 with 1 Axes>"
      ]
     },
     "metadata": {
      "needs_background": "light"
     },
     "output_type": "display_data"
    }
   ],
   "source": [
    "fig, ax = plt.subplots()\n",
    "mc = df[df['gilded'] >= 1]\n",
    "print(mc.shape)\n",
    "print('Max: ', df['gilded'].max())\n",
    "print('Min: ', df['gilded'].min())\n",
    "ax.violinplot(mc['gilded'][mc['target_bin'] == 1], showmedians=True, positions=[1], widths=0.3,bw_method=0.5)\n",
    "ax.violinplot(mc['gilded'][mc['target_bin'] == 0], showmedians=True, positions=[2], widths=0.3,bw_method=0.5)\n",
    "ax.set_title('Gilded')\n",
    "ax.set_xticks([1, 2])\n",
    "ax.set_xticklabels(['Buy', 'Sell'])"
   ]
  },
  {
   "attachments": {},
   "cell_type": "markdown",
   "metadata": {},
   "source": [
    "The above graph is only 30 samples!!!!!!"
   ]
  },
  {
   "cell_type": "code",
   "execution_count": 18,
   "metadata": {},
   "outputs": [
    {
     "name": "stdout",
     "output_type": "stream",
     "text": [
      "(4262, 11)\n",
      "Max:  324.3\n",
      "Min:  0.0\n"
     ]
    },
    {
     "data": {
      "text/plain": [
       "[Text(1, 0, 'Buy'), Text(2, 0, 'Sell')]"
      ]
     },
     "execution_count": 18,
     "metadata": {},
     "output_type": "execute_result"
    },
    {
     "data": {
      "image/png": "[encoded data removed]",
      "text/plain": [
       "<Figure size 432x288 with 1 Axes>"
      ]
     },
     "metadata": {
      "needs_background": "light"
     },
     "output_type": "display_data"
    }
   ],
   "source": [
    "fig, ax = plt.subplots()\n",
    "mc = df[df['total_awards_received'] <= 10]\n",
    "print(mc.shape)\n",
    "print('Max: ', df['total_awards_received'].max())\n",
    "print('Min: ', df['total_awards_received'].min())\n",
    "ax.violinplot(mc['total_awards_received'][mc['target_bin'] == 1], showmedians=True, positions=[1], widths=0.3,bw_method=0.5)\n",
    "ax.violinplot(mc['total_awards_received'][mc['target_bin'] == 0], showmedians=True, positions=[2], widths=0.3,bw_method=0.5)\n",
    "ax.set_title('Total awards received')\n",
    "ax.set_xticks([1, 2])\n",
    "ax.set_xticklabels(['Buy', 'Sell'])"
   ]
  },
  {
   "cell_type": "code",
   "execution_count": 19,
   "metadata": {},
   "outputs": [
    {
     "name": "stdout",
     "output_type": "stream",
     "text": [
      "(4276, 11)\n",
      "Max:  2811.3888888888887\n",
      "Min:  0.0\n"
     ]
    },
    {
     "data": {
      "text/plain": [
       "[Text(1, 0, 'Buy'), Text(2, 0, 'Sell')]"
      ]
     },
     "execution_count": 19,
     "metadata": {},
     "output_type": "execute_result"
    },
    {
     "data": {
      "image/png": "[encoded data removed]",
      "text/plain": [
       "<Figure size 432x288 with 1 Axes>"
      ]
     },
     "metadata": {
      "needs_background": "light"
     },
     "output_type": "display_data"
    }
   ],
   "source": [
    "fig, ax = plt.subplots()\n",
    "mc = df[df['num_comments'] <= 500]\n",
    "print(mc.shape)\n",
    "print('Max: ', df['num_comments'].max())\n",
    "print('Min: ', df['num_comments'].min())\n",
    "ax.violinplot(mc['num_comments'][mc['target_bin'] == 1], showmedians=True, positions=[1], widths=0.3,bw_method=0.5)\n",
    "ax.violinplot(mc['num_comments'][mc['target_bin'] == 0], showmedians=True, positions=[2], widths=0.3,bw_method=0.5)\n",
    "ax.set_title('Number of comments')\n",
    "ax.set_xticks([1, 2])\n",
    "ax.set_xticklabels(['Buy', 'Sell'])"
   ]
  },
  {
   "cell_type": "code",
   "execution_count": 20,
   "metadata": {},
   "outputs": [
    {
     "data": {
      "text/plain": [
       "0    2257\n",
       "1    2123\n",
       "Name: target_bin, dtype: int64"
      ]
     },
     "execution_count": 20,
     "metadata": {},
     "output_type": "execute_result"
    }
   ],
   "source": [
    "df['target_bin'].value_counts()"
   ]
  },
  {
   "attachments": {},
   "cell_type": "markdown",
   "metadata": {},
   "source": [
    "Pretty balanced dataset... Nice"
   ]
  },
  {
   "cell_type": "code",
   "execution_count": 21,
   "metadata": {},
   "outputs": [
    {
     "name": "stdout",
     "output_type": "stream",
     "text": [
      "Min of score: 0.3333333333333333\n",
      "Max of score: 498.0\n"
     ]
    },
    {
     "data": {
      "text/plain": [
       "(4196, 11)"
      ]
     },
     "execution_count": 21,
     "metadata": {},
     "output_type": "execute_result"
    },
    {
     "data": {
      "image/png": "[encoded data removed]",
      "text/plain": [
       "<Figure size 432x288 with 1 Axes>"
      ]
     },
     "metadata": {
      "needs_background": "light"
     },
     "output_type": "display_data"
    }
   ],
   "source": [
    "def make_hist(ax, col, df):\n",
    "    print(f'Min of {col}: {df[col].min()}')\n",
    "    print(f'Max of {col}: {df[col].max()}')\n",
    "    ax = df[col].plot(kind='hist', ax=ax)\n",
    "    make_pretty(ax, f'{col}', col, 'Frequency')\n",
    "    \n",
    "fig, ax = plt.subplots()\n",
    "mc = df[df['score'] <= 500]\n",
    "make_hist(ax, 'score', mc)\n",
    "mc.shape\n",
    "    "
   ]
  },
  {
   "cell_type": "code",
   "execution_count": 22,
   "metadata": {},
   "outputs": [
    {
     "name": "stdout",
     "output_type": "stream",
     "text": [
      "Min of mentioned_count: 3\n",
      "Max of mentioned_count: 20\n"
     ]
    },
    {
     "data": {
      "text/plain": [
       "(3883, 11)"
      ]
     },
     "execution_count": 22,
     "metadata": {},
     "output_type": "execute_result"
    },
    {
     "data": {
      "image/png": "[encoded data removed]",
      "text/plain": [
       "<Figure size 432x288 with 1 Axes>"
      ]
     },
     "metadata": {
      "needs_background": "light"
     },
     "output_type": "display_data"
    }
   ],
   "source": [
    "fig, ax = plt.subplots()\n",
    "mc = df[df['mentioned_count'] <= 20]\n",
    "make_hist(ax, 'mentioned_count', mc)\n",
    "mc.shape"
   ]
  },
  {
   "cell_type": "code",
   "execution_count": 23,
   "metadata": {},
   "outputs": [
    {
     "name": "stdout",
     "output_type": "stream",
     "text": [
      "Min of upvote_ratio: 0.3999999999999999\n",
      "Max of upvote_ratio: 1.0\n"
     ]
    },
    {
     "data": {
      "text/plain": [
       "(4380, 11)"
      ]
     },
     "execution_count": 23,
     "metadata": {},
     "output_type": "execute_result"
    },
    {
     "data": {
      "image/png": "[encoded data removed]",
      "text/plain": [
       "<Figure size 432x288 with 1 Axes>"
      ]
     },
     "metadata": {
      "needs_background": "light"
     },
     "output_type": "display_data"
    }
   ],
   "source": [
    "fig, ax = plt.subplots()\n",
    "\n",
    "make_hist(ax, 'upvote_ratio', df)\n",
    "df.shape"
   ]
  },
  {
   "cell_type": "code",
   "execution_count": 24,
   "metadata": {},
   "outputs": [
    {
     "name": "stdout",
     "output_type": "stream",
     "text": [
      "Min of gilded: 0.0\n",
      "Max of gilded: 1.0\n"
     ]
    },
    {
     "data": {
      "text/plain": [
       "(4359, 11)"
      ]
     },
     "execution_count": 24,
     "metadata": {},
     "output_type": "execute_result"
    },
    {
     "data": {
      "image/png": "[encoded data removed]",
      "text/plain": [
       "<Figure size 432x288 with 1 Axes>"
      ]
     },
     "metadata": {
      "needs_background": "light"
     },
     "output_type": "display_data"
    }
   ],
   "source": [
    "fig, ax = plt.subplots()\n",
    "mc = df[df['gilded'] <= 1]\n",
    "make_hist(ax, 'gilded', mc)\n",
    "mc.shape"
   ]
  },
  {
   "cell_type": "code",
   "execution_count": 25,
   "metadata": {},
   "outputs": [
    {
     "name": "stdout",
     "output_type": "stream",
     "text": [
      "Min of total_awards_received: 0.0\n",
      "Max of total_awards_received: 9.875\n"
     ]
    },
    {
     "data": {
      "text/plain": [
       "(4258, 11)"
      ]
     },
     "execution_count": 25,
     "metadata": {},
     "output_type": "execute_result"
    },
    {
     "data": {
      "image/png": "[encoded data removed]",
      "text/plain": [
       "<Figure size 432x288 with 1 Axes>"
      ]
     },
     "metadata": {
      "needs_background": "light"
     },
     "output_type": "display_data"
    }
   ],
   "source": [
    "fig, ax = plt.subplots()\n",
    "mc = df[df['total_awards_received'] < 10]\n",
    "make_hist(ax, 'total_awards_received', mc)\n",
    "mc.shape"
   ]
  },
  {
   "cell_type": "code",
   "execution_count": 26,
   "metadata": {},
   "outputs": [
    {
     "name": "stdout",
     "output_type": "stream",
     "text": [
      "Min of num_comments: 0.0\n",
      "Max of num_comments: 198.85\n"
     ]
    },
    {
     "data": {
      "text/plain": [
       "(4095, 11)"
      ]
     },
     "execution_count": 26,
     "metadata": {},
     "output_type": "execute_result"
    },
    {
     "data": {
      "image/png": "[encoded data removed]",
      "text/plain": [
       "<Figure size 432x288 with 1 Axes>"
      ]
     },
     "metadata": {
      "needs_background": "light"
     },
     "output_type": "display_data"
    }
   ],
   "source": [
    "fig, ax = plt.subplots()\n",
    "mc = df[df['num_comments'] < 200]\n",
    "make_hist(ax, 'num_comments', mc)\n",
    "mc.shape"
   ]
  },
  {
   "cell_type": "code",
   "execution_count": 27,
   "metadata": {},
   "outputs": [
    {
     "name": "stderr",
     "output_type": "stream",
     "text": [
      "/var/folders/6k/4xftj4fd3r77tpp_89lhnqrm0000gn/T/ipykernel_31984/1134722465.py:1: FutureWarning: The default value of numeric_only in DataFrame.corr is deprecated. In a future version, it will default to False. Select only valid columns or specify the value of numeric_only to silence this warning.\n",
      "  df.corr()\n"
     ]
    },
    {
     "data": {
      "text/html": [
       "<div>\n",
       "<style scoped>\n",
       "    .dataframe tbody tr th:only-of-type {\n",
       "        vertical-align: middle;\n",
       "    }\n",
       "\n",
       "    .dataframe tbody tr th {\n",
       "        vertical-align: top;\n",
       "    }\n",
       "\n",
       "    .dataframe thead th {\n",
       "        text-align: right;\n",
       "    }\n",
       "</style>\n",
       "<table border=\"1\" class=\"dataframe\">\n",
       "  <thead>\n",
       "    <tr style=\"text-align: right;\">\n",
       "      <th></th>\n",
       "      <th>mentioned_count</th>\n",
       "      <th>upvote_ratio</th>\n",
       "      <th>score</th>\n",
       "      <th>gilded</th>\n",
       "      <th>total_awards_received</th>\n",
       "      <th>num_comments</th>\n",
       "      <th>target</th>\n",
       "      <th>target_bin</th>\n",
       "    </tr>\n",
       "  </thead>\n",
       "  <tbody>\n",
       "    <tr>\n",
       "      <th>mentioned_count</th>\n",
       "      <td>1.000000</td>\n",
       "      <td>0.046555</td>\n",
       "      <td>0.045531</td>\n",
       "      <td>0.004126</td>\n",
       "      <td>0.018266</td>\n",
       "      <td>0.122055</td>\n",
       "      <td>-0.120712</td>\n",
       "      <td>-0.029989</td>\n",
       "    </tr>\n",
       "    <tr>\n",
       "      <th>upvote_ratio</th>\n",
       "      <td>0.046555</td>\n",
       "      <td>1.000000</td>\n",
       "      <td>0.104676</td>\n",
       "      <td>0.045639</td>\n",
       "      <td>0.071417</td>\n",
       "      <td>0.082824</td>\n",
       "      <td>-0.005414</td>\n",
       "      <td>0.005991</td>\n",
       "    </tr>\n",
       "    <tr>\n",
       "      <th>score</th>\n",
       "      <td>0.045531</td>\n",
       "      <td>0.104676</td>\n",
       "      <td>1.000000</td>\n",
       "      <td>0.731090</td>\n",
       "      <td>0.872301</td>\n",
       "      <td>0.343059</td>\n",
       "      <td>-0.013926</td>\n",
       "      <td>0.008884</td>\n",
       "    </tr>\n",
       "    <tr>\n",
       "      <th>gilded</th>\n",
       "      <td>0.004126</td>\n",
       "      <td>0.045639</td>\n",
       "      <td>0.731090</td>\n",
       "      <td>1.000000</td>\n",
       "      <td>0.902124</td>\n",
       "      <td>0.256303</td>\n",
       "      <td>0.003740</td>\n",
       "      <td>0.027709</td>\n",
       "    </tr>\n",
       "    <tr>\n",
       "      <th>total_awards_received</th>\n",
       "      <td>0.018266</td>\n",
       "      <td>0.071417</td>\n",
       "      <td>0.872301</td>\n",
       "      <td>0.902124</td>\n",
       "      <td>1.000000</td>\n",
       "      <td>0.322741</td>\n",
       "      <td>0.002116</td>\n",
       "      <td>0.021817</td>\n",
       "    </tr>\n",
       "    <tr>\n",
       "      <th>num_comments</th>\n",
       "      <td>0.122055</td>\n",
       "      <td>0.082824</td>\n",
       "      <td>0.343059</td>\n",
       "      <td>0.256303</td>\n",
       "      <td>0.322741</td>\n",
       "      <td>1.000000</td>\n",
       "      <td>0.090023</td>\n",
       "      <td>0.000624</td>\n",
       "    </tr>\n",
       "    <tr>\n",
       "      <th>target</th>\n",
       "      <td>-0.120712</td>\n",
       "      <td>-0.005414</td>\n",
       "      <td>-0.013926</td>\n",
       "      <td>0.003740</td>\n",
       "      <td>0.002116</td>\n",
       "      <td>0.090023</td>\n",
       "      <td>1.000000</td>\n",
       "      <td>0.425151</td>\n",
       "    </tr>\n",
       "    <tr>\n",
       "      <th>target_bin</th>\n",
       "      <td>-0.029989</td>\n",
       "      <td>0.005991</td>\n",
       "      <td>0.008884</td>\n",
       "      <td>0.027709</td>\n",
       "      <td>0.021817</td>\n",
       "      <td>0.000624</td>\n",
       "      <td>0.425151</td>\n",
       "      <td>1.000000</td>\n",
       "    </tr>\n",
       "  </tbody>\n",
       "</table>\n",
       "</div>"
      ],
      "text/plain": [
       "                       mentioned_count  upvote_ratio     score    gilded  \\\n",
       "mentioned_count               1.000000      0.046555  0.045531  0.004126   \n",
       "upvote_ratio                  0.046555      1.000000  0.104676  0.045639   \n",
       "score                         0.045531      0.104676  1.000000  0.731090   \n",
       "gilded                        0.004126      0.045639  0.731090  1.000000   \n",
       "total_awards_received         0.018266      0.071417  0.872301  0.902124   \n",
       "num_comments                  0.122055      0.082824  0.343059  0.256303   \n",
       "target                       -0.120712     -0.005414 -0.013926  0.003740   \n",
       "target_bin                   -0.029989      0.005991  0.008884  0.027709   \n",
       "\n",
       "                       total_awards_received  num_comments    target  \\\n",
       "mentioned_count                     0.018266      0.122055 -0.120712   \n",
       "upvote_ratio                        0.071417      0.082824 -0.005414   \n",
       "score                               0.872301      0.343059 -0.013926   \n",
       "gilded                              0.902124      0.256303  0.003740   \n",
       "total_awards_received               1.000000      0.322741  0.002116   \n",
       "num_comments                        0.322741      1.000000  0.090023   \n",
       "target                              0.002116      0.090023  1.000000   \n",
       "target_bin                          0.021817      0.000624  0.425151   \n",
       "\n",
       "                       target_bin  \n",
       "mentioned_count         -0.029989  \n",
       "upvote_ratio             0.005991  \n",
       "score                    0.008884  \n",
       "gilded                   0.027709  \n",
       "total_awards_received    0.021817  \n",
       "num_comments             0.000624  \n",
       "target                   0.425151  \n",
       "target_bin               1.000000  "
      ]
     },
     "execution_count": 27,
     "metadata": {},
     "output_type": "execute_result"
    }
   ],
   "source": [
    "df.corr()"
   ]
  },
  {
   "attachments": {},
   "cell_type": "markdown",
   "metadata": {},
   "source": [
    "### Feature Engineering - Sentiment Analysis\n",
    "\n",
    "https://www.kirenz.com/post/2021-12-11-text-mining-and-sentiment-analysis-with-nltk-and-pandas-in-python/text-mining-and-sentiment-analysis-with-nltk-and-pandas-in-python/"
   ]
  },
  {
   "attachments": {},
   "cell_type": "markdown",
   "metadata": {},
   "source": [
    "(Takes 10 minutes to run beware)"
   ]
  },
  {
   "cell_type": "code",
   "execution_count": 6,
   "metadata": {},
   "outputs": [
    {
     "name": "stderr",
     "output_type": "stream",
     "text": [
      "[nltk_data] Downloading package vader_lexicon to\n",
      "[nltk_data]     /Users/benfouch/nltk_data...\n",
      "[nltk_data]   Package vader_lexicon is already up-to-date!\n",
      "100%|██████████| 4380/4380 [10:48<00:00,  6.75it/s]  \n"
     ]
    }
   ],
   "source": [
    "from nltk.sentiment import SentimentAnalyzer\n",
    "from nltk.sentiment import SentimentIntensityAnalyzer\n",
    "import nltk\n",
    "from tqdm import tqdm\n",
    "tqdm.pandas()\n",
    "nltk.download('vader_lexicon')\n",
    "\n",
    "\n",
    "analyzer = SentimentIntensityAnalyzer()\n",
    "\n",
    "df['polarity'] = df['text'].progress_apply(lambda x : analyzer.polarity_scores(x))\n",
    "df = pd.concat([df.drop(['polarity'], axis=1), df['polarity'].apply(pd.Series)], axis=1)\n",
    "\n"
   ]
  },
  {
   "attachments": {},
   "cell_type": "markdown",
   "metadata": {},
   "source": [
    "### Sentiment feature analysis"
   ]
  },
  {
   "cell_type": "code",
   "execution_count": 35,
   "metadata": {},
   "outputs": [
    {
     "name": "stdout",
     "output_type": "stream",
     "text": [
      "Min of neg: 0.0\n",
      "Max of neg: 0.209\n"
     ]
    },
    {
     "data": {
      "image/png": "[encoded data removed]",
      "text/plain": [
       "<Figure size 432x288 with 1 Axes>"
      ]
     },
     "metadata": {
      "needs_background": "light"
     },
     "output_type": "display_data"
    }
   ],
   "source": [
    "fig, ax = plt.subplots()\n",
    "make_hist(ax, 'neg', df)\n"
   ]
  },
  {
   "cell_type": "code",
   "execution_count": 30,
   "metadata": {},
   "outputs": [
    {
     "name": "stdout",
     "output_type": "stream",
     "text": [
      "Min of pos: 0.0\n",
      "Max of pos: 0.359\n"
     ]
    },
    {
     "data": {
      "image/png": "[encoded data removed]",
      "text/plain": [
       "<Figure size 432x288 with 1 Axes>"
      ]
     },
     "metadata": {
      "needs_background": "light"
     },
     "output_type": "display_data"
    }
   ],
   "source": [
    "fig, ax = plt.subplots()\n",
    "make_hist(ax, 'pos', df)"
   ]
  },
  {
   "cell_type": "code",
   "execution_count": 31,
   "metadata": {},
   "outputs": [
    {
     "name": "stdout",
     "output_type": "stream",
     "text": [
      "Min of neu: 0.575\n",
      "Max of neu: 0.997\n"
     ]
    },
    {
     "data": {
      "image/png": "[encoded data removed]",
      "text/plain": [
       "<Figure size 432x288 with 1 Axes>"
      ]
     },
     "metadata": {
      "needs_background": "light"
     },
     "output_type": "display_data"
    }
   ],
   "source": [
    "fig, ax = plt.subplots()\n",
    "make_hist(ax, 'neu', df)"
   ]
  },
  {
   "cell_type": "code",
   "execution_count": 32,
   "metadata": {},
   "outputs": [
    {
     "name": "stdout",
     "output_type": "stream",
     "text": [
      "Max:  0.359\n",
      "Min:  0.0\n"
     ]
    },
    {
     "data": {
      "text/plain": [
       "[Text(1, 0, 'Buy'), Text(2, 0, 'Sell')]"
      ]
     },
     "execution_count": 32,
     "metadata": {},
     "output_type": "execute_result"
    },
    {
     "data": {
      "image/png": "[encoded data removed]",
      "text/plain": [
       "<Figure size 432x288 with 1 Axes>"
      ]
     },
     "metadata": {
      "needs_background": "light"
     },
     "output_type": "display_data"
    }
   ],
   "source": [
    "fig, ax = plt.subplots()\n",
    "col_name = 'pos'\n",
    "\n",
    "\n",
    "print('Max: ', df[col_name].max())\n",
    "print('Min: ', df[col_name].min())\n",
    "ax.violinplot(df[col_name][df['target_bin'] == 1], showmedians=True, positions=[1], widths=0.3,bw_method=0.5)\n",
    "ax.violinplot(df[col_name][df['target_bin'] == 0], showmedians=True, positions=[2], widths=0.3,bw_method=0.5)\n",
    "ax.set_title(col_name)\n",
    "ax.set_xticks([1, 2])\n",
    "ax.set_xticklabels(['Buy', 'Sell'])"
   ]
  },
  {
   "cell_type": "code",
   "execution_count": 33,
   "metadata": {},
   "outputs": [
    {
     "name": "stdout",
     "output_type": "stream",
     "text": [
      "Max:  0.209\n",
      "Min:  0.0\n"
     ]
    },
    {
     "data": {
      "text/plain": [
       "[Text(1, 0, 'Buy'), Text(2, 0, 'Sell')]"
      ]
     },
     "execution_count": 33,
     "metadata": {},
     "output_type": "execute_result"
    },
    {
     "data": {
      "image/png": "[encoded data removed]",
      "text/plain": [
       "<Figure size 432x288 with 1 Axes>"
      ]
     },
     "metadata": {
      "needs_background": "light"
     },
     "output_type": "display_data"
    }
   ],
   "source": [
    "fig, ax = plt.subplots()\n",
    "col_name = 'neg'\n",
    "\n",
    "\n",
    "print('Max: ', df[col_name].max())\n",
    "print('Min: ', df[col_name].min())\n",
    "ax.violinplot(df[col_name][df['target_bin'] == 1], showmedians=True, positions=[1], widths=0.3,bw_method=0.5)\n",
    "ax.violinplot(df[col_name][df['target_bin'] == 0], showmedians=True, positions=[2], widths=0.3,bw_method=0.5)\n",
    "ax.set_title(col_name)\n",
    "ax.set_xticks([1, 2])\n",
    "ax.set_xticklabels(['Buy', 'Sell'])"
   ]
  },
  {
   "cell_type": "code",
   "execution_count": 34,
   "metadata": {},
   "outputs": [
    {
     "name": "stdout",
     "output_type": "stream",
     "text": [
      "Max:  0.997\n",
      "Min:  0.575\n"
     ]
    },
    {
     "data": {
      "text/plain": [
       "[Text(1, 0, 'Buy'), Text(2, 0, 'Sell')]"
      ]
     },
     "execution_count": 34,
     "metadata": {},
     "output_type": "execute_result"
    },
    {
     "data": {
      "image/png": "[encoded data removed]",
      "text/plain": [
       "<Figure size 432x288 with 1 Axes>"
      ]
     },
     "metadata": {
      "needs_background": "light"
     },
     "output_type": "display_data"
    }
   ],
   "source": [
    "fig, ax = plt.subplots()\n",
    "col_name = 'neu'\n",
    "\n",
    "\n",
    "print('Max: ', df[col_name].max())\n",
    "print('Min: ', df[col_name].min())\n",
    "ax.violinplot(df[col_name][df['target_bin'] == 1], showmedians=True, positions=[1], widths=0.3,bw_method=0.5)\n",
    "ax.violinplot(df[col_name][df['target_bin'] == 0], showmedians=True, positions=[2], widths=0.3,bw_method=0.5)\n",
    "ax.set_title(col_name)\n",
    "ax.set_xticks([1, 2])\n",
    "ax.set_xticklabels(['Buy', 'Sell'])"
   ]
  },
  {
   "attachments": {},
   "cell_type": "markdown",
   "metadata": {},
   "source": [
    "### Maybe some statistical tests here for numerical features"
   ]
  },
  {
   "cell_type": "code",
   "execution_count": 16,
   "metadata": {},
   "outputs": [
    {
     "name": "stdout",
     "output_type": "stream",
     "text": [
      "mentioned_count p: 0.05099168091982816\n",
      "upvote_ratio p: 0.8595651261261188\n",
      "score p: 0.8117301240047156\n",
      "gilded p: 0.8646329381460887\n",
      "total_awards_received p: 0.8758317043068967\n",
      "num_comments p: 0.43199302191642874\n",
      "neu p: 0.10125965468509818\n",
      "neg p: 0.635320353454075\n",
      "pos p: 0.1065567106206536\n"
     ]
    }
   ],
   "source": [
    "from scipy.stats import kruskal\n",
    "\n",
    "cont_var = ['mentioned_count', 'upvote_ratio', 'score', 'gilded', 'total_awards_received', 'num_comments', 'neu', 'neg', 'pos']\n",
    "\n",
    "for x in cont_var:\n",
    "    samples_by_group = []\n",
    "    for y in set(df['target_bin']):\n",
    "        mask = df['target_bin'] == y\n",
    "        samples_by_group.append(df[x][mask]) \n",
    "    stat, p = kruskal(*samples_by_group, nan_policy='omit')\n",
    "# alpha = 0.01\n",
    "# for var in cont_var:\n",
    "#     ops = list(df[var].unique())\n",
    "#     if len(ops) > 1:\n",
    "#         price_arrays = [df['target_bin'][df[var]==t] for t in ops]\n",
    "#         _, p = kruskal(*price_arrays)\n",
    "#         print(str(var) + ' | ' + str(p) + ' | ' + str(p < alpha))\n",
    "#     else:\n",
    "#         print(str(var) + ' | NA | NA')\n",
    "    \n",
    "\n",
    "\n",
    "    print(f'{x} p: {p}')"
   ]
  },
  {
   "attachments": {},
   "cell_type": "markdown",
   "metadata": {},
   "source": [
    "### Some graphics for the text"
   ]
  },
  {
   "cell_type": "code",
   "execution_count": 21,
   "metadata": {},
   "outputs": [
    {
     "data": {
      "text/plain": [
       "0.03741977808533908"
      ]
     },
     "execution_count": 21,
     "metadata": {},
     "output_type": "execute_result"
    }
   ],
   "source": [
    "df.head()\n",
    "df.target.abs().std()"
   ]
  },
  {
   "attachments": {},
   "cell_type": "markdown",
   "metadata": {},
   "source": []
  },
  {
   "cell_type": "markdown",
   "metadata": {},
   "source": []
  }
 ],
 "metadata": {
  "kernelspec": {
   "display_name": "venv",
   "language": "python",
   "name": "python3"
  },
  "language_info": {
   "codemirror_mode": {
    "name": "ipython",
    "version": 3
   },
   "file_extension": ".py",
   "mimetype": "text/x-python",
   "name": "python",
   "nbconvert_exporter": "python",
   "pygments_lexer": "ipython3",
   "version": "3.10.4"
  },
  "orig_nbformat": 4,
  "vscode": {
   "interpreter": {
    "hash": "7a267a99bbf72d1e7ab9dc70df7cf6b2ed807ed4003ebf11dfd7853a92fab2bb"
   }
  }
 },
 "nbformat": 4,
 "nbformat_minor": 2
}
